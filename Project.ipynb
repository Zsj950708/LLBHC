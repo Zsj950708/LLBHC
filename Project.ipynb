{
 "cells": [
  {
   "cell_type": "code",
   "execution_count": 320,
   "metadata": {
    "collapsed": true
   },
   "outputs": [],
   "source": [
    "from scipy import special\n",
    "import numpy as np\n",
    "import matplotlib.pyplot as plt"
   ]
  },
  {
   "cell_type": "code",
   "execution_count": 381,
   "metadata": {
    "collapsed": true
   },
   "outputs": [],
   "source": [
    "## object class for node\n",
    "class node():\n",
    "    \"\"\"the class for each node\"\"\"\n",
    "    \n",
    "    def __init__(self, left, right, data, cnum):\n",
    "        self.l = left\n",
    "        self.r = right\n",
    "        if(left == None and right == None):\n",
    "            self.n = 1\n",
    "        else:\n",
    "            self.n = left.n + right.n\n",
    "        self.data = data\n",
    "        self.cluster = cnum"
   ]
  },
  {
   "cell_type": "code",
   "execution_count": 382,
   "metadata": {
    "collapsed": true
   },
   "outputs": [],
   "source": [
    "## function to calculate the posterior probability\n",
    "def p_hyp1(dataset, a):\n",
    "    # extract the number of features and the total number of data\n",
    "    #print(dataset)\n",
    "    if (len(dataset.shape) == 1):\n",
    "        N = 1\n",
    "        k = dataset.shape[0]\n",
    "        #print(k)\n",
    "        # part I\n",
    "        p1 = 1\n",
    "        comp = special.gamma(np.sum(dataset)+1) / np.prod(special.gamma(dataset+1))\n",
    "        p1 = p1 * comp\n",
    "        \n",
    "        # part II\n",
    "        # iterate to calculate the probability\n",
    "        p2 = p1 * special.gamma(np.sum(a)) / special.gamma(np.sum(dataset) + np.sum(a))\n",
    "        for j in range(k):\n",
    "            #print(j)\n",
    "            comp = special.gamma(a[j] + np.sum(dataset[j])) / special.gamma(a[j])\n",
    "            p2 = p2 * comp\n",
    "    else:\n",
    "        N = dataset.shape[0]\n",
    "        k = dataset.shape[1]\n",
    "        #print(k)\n",
    "    \n",
    "        # part I\n",
    "        p1 = 1\n",
    "        for i in range(N):\n",
    "            comp = special.gamma(np.sum(dataset[i, :])+1) / np.prod(special.gamma(dataset[i, :]+1))\n",
    "            p1 = p1 * comp\n",
    "        \n",
    "        # part II\n",
    "        # iterate to calculate the probability\n",
    "        p2 = p1 * special.gamma(np.sum(a)) / special.gamma(np.sum(dataset) + np.sum(a))\n",
    "        for j in range(k):\n",
    "            #print(j)\n",
    "            comp = special.gamma(a[j] + np.sum(dataset[:, j])) / special.gamma(a[j])\n",
    "            p2 = p2 * comp\n",
    "\n",
    "    return p2"
   ]
  },
  {
   "cell_type": "code",
   "execution_count": 383,
   "metadata": {
    "collapsed": true
   },
   "outputs": [],
   "source": [
    "## function to calculate the d\n",
    "def get_d(node, a):\n",
    "    if node.l == None and node.r == None:\n",
    "        return a\n",
    "    else:\n",
    "        return a*special.gamma(node.n) + get_d(node.l, a)*get_d(node.r, a)"
   ]
  },
  {
   "cell_type": "code",
   "execution_count": 384,
   "metadata": {
    "collapsed": true
   },
   "outputs": [],
   "source": [
    "## function to calculate the weight or pi\n",
    "def get_pi(node, a):\n",
    "    dk = get_d(node, a)\n",
    "    pi_k = a*special.gamma(node.n)/dk\n",
    "    return pi_k"
   ]
  },
  {
   "cell_type": "code",
   "execution_count": 386,
   "metadata": {
    "collapsed": true
   },
   "outputs": [],
   "source": [
    "# get dk\n",
    "def get_dk(node, a):\n",
    "    post = p_hyp1(node.data, np.repeat(a, data.shape[1]))\n",
    "    pi = get_pi(node, a)\n",
    "    if node.l == None and node.r == None:\n",
    "        return  pi * post\n",
    "    else:\n",
    "        return  pi * post + (1-pi) * get_dk(node.l, a) * get_dk(node.r, a)"
   ]
  },
  {
   "cell_type": "code",
   "execution_count": 416,
   "metadata": {
    "collapsed": false
   },
   "outputs": [
    {
     "data": {
      "text/plain": [
       "array([[2, 2, 3, 1, 2],\n",
       "       [0, 1, 1, 0, 1],\n",
       "       [1, 1, 2, 3, 0],\n",
       "       [0, 0, 0, 3, 0],\n",
       "       [3, 2, 1, 0, 0]])"
      ]
     },
     "execution_count": 416,
     "metadata": {},
     "output_type": "execute_result"
    }
   ],
   "source": [
    "## test dataset\n",
    "sdata = np.random.randint(0,4, size=(5,5))\n",
    "sdata"
   ]
  },
  {
   "cell_type": "code",
   "execution_count": 417,
   "metadata": {
    "collapsed": false
   },
   "outputs": [
    {
     "data": {
      "text/plain": [
       "array([[ 7,  1,  0, ...,  1,  9,  5],\n",
       "       [ 8,  1,  0, ...,  1, 10,  5],\n",
       "       [ 8,  1,  0, ...,  1, 10,  5],\n",
       "       ..., \n",
       "       [ 6,  1,  0, ...,  1, 11,  6],\n",
       "       [ 6,  1,  0, ...,  1, 10,  5],\n",
       "       [ 6,  0,  0, ...,  1, 11,  6]])"
      ]
     },
     "execution_count": 417,
     "metadata": {},
     "output_type": "execute_result"
    }
   ],
   "source": [
    "with open(\"wine.csv\") as f:\n",
    "    next(f)\n",
    "    text = f.read() \n",
    "\n",
    "data = []\n",
    "lines  = text.split('\\n')\n",
    "for line in lines[:-1]:\n",
    "    arr = line.split(';')\n",
    "    fl = [int(np.round(float(x))) for x in arr]\n",
    "    data.append(fl)\n",
    "\n",
    "data = np.array(data)\n",
    "data"
   ]
  },
  {
   "cell_type": "code",
   "execution_count": 418,
   "metadata": {
    "collapsed": true
   },
   "outputs": [],
   "source": [
    "data = data[:50,:]"
   ]
  },
  {
   "cell_type": "code",
   "execution_count": 424,
   "metadata": {
    "collapsed": false
   },
   "outputs": [],
   "source": [
    "def bhc(data, a=1, r_thres=0.5):\n",
    "    node_list = []\n",
    "    node_list_copy = []\n",
    "    for i in range(data.shape[0]):\n",
    "        node_list.append(node(None, None, np.array([data[i,:]]), i))\n",
    "        node_list_copy.append(node(None, None, np.array([data[i,:]]), i))\n",
    "    #print(node_list)\n",
    "    \n",
    "    c = data.shape[0]\n",
    "    \n",
    "    while c > 1:\n",
    "        flag = False\n",
    "        for i in range(len(node_list)):\n",
    "            for j in range(i+1, len(node_list)):\n",
    "                #print(\"first node:\", node_list[i].data)\n",
    "                #print(\"second node:\", node_list[j].data)\n",
    "                if len(node_list[i].data.shape) == 1 and len(node_list[j].data.shape) == 1:\n",
    "                    newdata = np.array([node_list[i].data, node_list[i].data])\n",
    "                else:\n",
    "                    newdata = np.concatenate((node_list[i].data, node_list[j].data), axis = 0)\n",
    "                print(np.concatenate((node_list[i].data, node_list[j].data), axis = 0))\n",
    "                node_new = node(node_list[i], node_list[j], newdata, min(node_list[i].cluster,node_list[j].cluster))\n",
    "                pi_k = get_pi(node_new, a)\n",
    "                #print(pi_k)\n",
    "                p_hyp = p_hyp1(node_new.data, np.repeat(a, data.shape[1]))\n",
    "                #print(p_hyp)\n",
    "                p_dk = get_dk(node_new, a)\n",
    "                #print(p_dk)\n",
    "                rk = pi_k * p_hyp / p_dk\n",
    "                #print(rk)\n",
    "                if rk >= r_thres:\n",
    "                    for k in range(len(node_list_copy)):\n",
    "                        entry = node_list_copy[k].cluster\n",
    "                        if entry == node_list[i].cluster or entry == node_list[j].cluster:\n",
    "                            node_list_copy[k].cluster = min(node_list[i].cluster,node_list[j].cluster)\n",
    "                    node_list = [node_new] + node_list[:i] + node_list[(i+1):j] + node_list[(j+1):]\n",
    "                    #print([node.cluster for node in node_list])\n",
    "                    c = c - 1\n",
    "                    flag = True\n",
    "                    break\n",
    "            if(flag == True):\n",
    "                break\n",
    "        \n",
    "        if(flag == False):\n",
    "            c = 1        \n",
    "        \n",
    "    return node_list, node_list_copy\n",
    "    "
   ]
  },
  {
   "cell_type": "code",
   "execution_count": 425,
   "metadata": {
    "collapsed": false,
    "scrolled": true
   },
   "outputs": [
    {
     "data": {
      "text/plain": [
       "array([[  7,   1,   0,   2,   0,  11,  34,   1,   4,   1,   9,   5],\n",
       "       [  8,   1,   0,   3,   0,  25,  67,   1,   3,   1,  10,   5],\n",
       "       [  8,   1,   0,   2,   0,  15,  54,   1,   3,   1,  10,   5],\n",
       "       [ 11,   0,   1,   2,   0,  17,  60,   1,   3,   1,  10,   6],\n",
       "       [  7,   1,   0,   2,   0,  11,  34,   1,   4,   1,   9,   5],\n",
       "       [  7,   1,   0,   2,   0,  13,  40,   1,   4,   1,   9,   5],\n",
       "       [  8,   1,   0,   2,   0,  15,  59,   1,   3,   0,   9,   5],\n",
       "       [  7,   1,   0,   1,   0,  15,  21,   1,   3,   0,  10,   7],\n",
       "       [  8,   1,   0,   2,   0,   9,  18,   1,   3,   1,  10,   7],\n",
       "       [  8,   0,   0,   6,   0,  17, 102,   1,   3,   1,  10,   5],\n",
       "       [  7,   1,   0,   2,   0,  15,  65,   1,   3,   1,   9,   5],\n",
       "       [  8,   0,   0,   6,   0,  17, 102,   1,   3,   1,  10,   5],\n",
       "       [  6,   1,   0,   2,   0,  16,  59,   1,   4,   1,  10,   5],\n",
       "       [  8,   1,   0,   2,   0,   9,  29,   1,   3,   2,   9,   5],\n",
       "       [  9,   1,   0,   4,   0,  52, 145,   1,   3,   1,   9,   5],\n",
       "       [  9,   1,   0,   4,   0,  51, 148,   1,   3,   1,   9,   5],\n",
       "       [  8,   0,   1,   2,   0,  35, 103,   1,   3,   1,  10,   7],\n",
       "       [  8,   1,   0,   2,   0,  16,  56,   1,   3,   1,   9,   5],\n",
       "       [  7,   1,   0,   4,   0,   6,  29,   1,   3,   0,   9,   4],\n",
       "       [  8,   0,   1,   2,   0,  17,  56,   1,   3,   1,   9,   6],\n",
       "       [  9,   0,   0,   2,   0,  29,  60,   1,   3,   1,   9,   6],\n",
       "       [  8,   0,   0,   2,   0,  23,  71,   1,   4,   1,  10,   5],\n",
       "       [  8,   0,   0,   2,   0,  10,  37,   1,   3,   1,  10,   5],\n",
       "       [  8,   0,   0,   2,   0,   9,  67,   1,   3,   1,   9,   5],\n",
       "       [  7,   0,   0,   2,   0,  21,  40,   1,   3,   1,  10,   6],\n",
       "       [  6,   0,   0,   1,   0,  11,  23,   1,   3,   1,   9,   5],\n",
       "       [  8,   0,   0,   2,   0,   4,  11,   1,   3,   1,  10,   5],\n",
       "       [  8,   0,   0,   2,   0,  10,  37,   1,   3,   1,  10,   5],\n",
       "       [  7,   1,   0,   2,   0,  14,  35,   1,   3,   1,   9,   5],\n",
       "       [  8,   1,   0,   2,   0,   8,  16,   1,   3,   1,  10,   6],\n",
       "       [  7,   1,   0,   2,   0,  17,  82,   1,   3,   1,  10,   5],\n",
       "       [  7,   1,   0,   2,   0,  22,  37,   1,   3,   1,  11,   6],\n",
       "       [  8,   1,   0,   2,   0,  15, 113,   1,   3,   1,  10,   5],\n",
       "       [  7,   1,   0,  11,   0,  40,  83,   1,   3,   1,   9,   6],\n",
       "       [  5,   0,   0,   2,   0,  13,  50,   1,   3,   1,   9,   5],\n",
       "       [  8,   1,   0,   6,   0,   5,  18,   1,   3,   1,  10,   6],\n",
       "       [  8,   1,   0,   2,   0,   3,  15,   1,   3,   1,  11,   6],\n",
       "       [  8,   0,   0,   2,   0,  13,  30,   1,   3,   1,  10,   7],\n",
       "       [  6,   1,   0,   2,   0,   7,  19,   1,   4,   0,  10,   4],\n",
       "       [  7,   0,   0,   6,   0,  12,  87,   1,   3,   1,  10,   5],\n",
       "       [  7,   0,   0,   6,   0,  12,  87,   1,   3,   1,  10,   5],\n",
       "       [  9,   1,   0,   3,   0,  17,  46,   1,   3,   1,   9,   4],\n",
       "       [  8,   0,   0,   3,   0,   8,  14,   1,   3,   1,  10,   6],\n",
       "       [  8,   1,   0,   2,   0,   9,  23,   1,   3,   1,  10,   5],\n",
       "       [  7,   1,   0,   2,   0,   5,  11,   1,   3,   1,  10,   5],\n",
       "       [  5,   1,   0,   2,   0,   8,  65,   1,   4,   1,  13,   4],\n",
       "       [  8,   1,   0,   2,   0,  22, 114,   1,   3,   1,   9,   5],\n",
       "       [  9,   0,   1,   2,   0,  12,  37,   1,   3,   1,  10,   5],\n",
       "       [  6,   0,   0,   2,   0,   5,  12,   1,   3,   1,   9,   5],\n",
       "       [  6,   0,   0,   1,   0,  12,  96,   1,   3,   1,   9,   5]])"
      ]
     },
     "execution_count": 425,
     "metadata": {},
     "output_type": "execute_result"
    }
   ],
   "source": [
    "data"
   ]
  },
  {
   "cell_type": "code",
   "execution_count": 426,
   "metadata": {
    "collapsed": false,
    "scrolled": true
   },
   "outputs": [
    {
     "name": "stdout",
     "output_type": "stream",
     "text": [
      "[[2 2 3 1 2]\n",
      " [0 1 1 0 1]]\n",
      "[[2 2 3 1 2]\n",
      " [0 1 1 0 1]\n",
      " [1 1 2 3 0]]\n",
      "[[2 2 3 1 2]\n",
      " [0 1 1 0 1]\n",
      " [1 1 2 3 0]\n",
      " [0 0 0 3 0]]\n",
      "[[2 2 3 1 2]\n",
      " [0 1 1 0 1]\n",
      " [1 1 2 3 0]\n",
      " [0 0 0 3 0]\n",
      " [3 2 1 0 0]]\n"
     ]
    }
   ],
   "source": [
    "node_list, node_list_cluster = bhc(data, a=1, r_thres=1)"
   ]
  },
  {
   "cell_type": "code",
   "execution_count": 422,
   "metadata": {
    "collapsed": false
   },
   "outputs": [
    {
     "data": {
      "text/plain": [
       "[0, 0, 0, 0, 0]"
      ]
     },
     "execution_count": 422,
     "metadata": {},
     "output_type": "execute_result"
    }
   ],
   "source": [
    "[node.cluster for node in node_list_cluster]"
   ]
  },
  {
   "cell_type": "code",
   "execution_count": 423,
   "metadata": {
    "collapsed": false
   },
   "outputs": [
    {
     "data": {
      "text/plain": [
       "[array([[2, 2, 3, 1, 2],\n",
       "        [0, 1, 1, 0, 1],\n",
       "        [1, 1, 2, 3, 0],\n",
       "        [0, 0, 0, 3, 0],\n",
       "        [3, 2, 1, 0, 0]])]"
      ]
     },
     "execution_count": 423,
     "metadata": {},
     "output_type": "execute_result"
    }
   ],
   "source": [
    "[node.data for node in node_list]"
   ]
  },
  {
   "cell_type": "code",
   "execution_count": 406,
   "metadata": {
    "collapsed": false,
    "scrolled": true
   },
   "outputs": [
    {
     "name": "stdout",
     "output_type": "stream",
     "text": [
      "[0, 1, 2, 3, 4, 5, 6, 7, 8, 9, 10, 11, 12, 13, 14, 15, 16, 17, 18, 19, 20, 21, 22, 23, 24, 25, 26, 27, 28, 29, 30, 31, 32, 33, 34, 35, 36, 37, 38, 39, 40, 41, 42, 43, 44, 45, 46, 47, 48, 49]\n"
     ]
    }
   ],
   "source": [
    "print([node.cluster for node in node_list])"
   ]
  },
  {
   "cell_type": "code",
   "execution_count": 304,
   "metadata": {
    "collapsed": false
   },
   "outputs": [
    {
     "ename": "SyntaxError",
     "evalue": "invalid syntax (<ipython-input-304-20758ba5dbc7>, line 3)",
     "output_type": "error",
     "traceback": [
      "\u001b[0;36m  File \u001b[0;32m\"<ipython-input-304-20758ba5dbc7>\"\u001b[0;36m, line \u001b[0;32m3\u001b[0m\n\u001b[0;31m    a = 1\u001b[0m\n\u001b[0m    ^\u001b[0m\n\u001b[0;31mSyntaxError\u001b[0m\u001b[0;31m:\u001b[0m invalid syntax\n"
     ]
    }
   ],
   "source": [
    "@jit(float64[:](float64[:,:], float64[:], float64[:], float64, int64), nopython=True)\n",
    "\n",
    "a = 1\n",
    "r_thres = 0\n",
    "node_list = []\n",
    "node_list_copy = []\n",
    "for i in range(data.shape[0]):\n",
    "    node_list.append(node(None, None, np.array([data[i,:]]), i))\n",
    "    node_list_copy.append(node(None, None, np.array([data[i,:]]), i))\n",
    "    \n",
    "c = data.shape[0]\n",
    "    \n",
    "while c > 1:\n",
    "    flag = False\n",
    "    for i in range(len(node_list)):\n",
    "        for j in range(i+1, len(node_list)):\n",
    "            #print(node_list[i].data)\n",
    "            #print(node_list[j].data)\n",
    "            if len(node_list[i].data.shape) == 1 and len(node_list[j].data.shape) == 1:\n",
    "                newdata = np.array([node_list[i].data, node_list[i].data])\n",
    "            else:\n",
    "                newdata = np.concatenate((node_list[i].data, node_list[j].data), axis = 0)\n",
    "            #print(newdata)\n",
    "            node_new = node(node_list[i], node_list[j], newdata, min(node_list[i].cluster,node_list[j].cluster))\n",
    "            pi_k = get_pi(node_new, a)\n",
    "            #print(pi_k)\n",
    "            p_hyp = p_hyp1(node_new.data, np.repeat(a, data.shape[1]))\n",
    "            #print(p_hyp)\n",
    "            p_dk = get_dk(node_new, a)\n",
    "            rk = pi_k * p_hyp / p_dk\n",
    "            #print(rk)\n",
    "            if rk >= r_thres:\n",
    "                for k in range(len(node_list_copy)):\n",
    "                    entry = node_list_copy[k].cluster\n",
    "                    if entry == node_list[i].cluster or entry == node_list[j].cluster:\n",
    "                        node_list_copy[k].cluster = min(node_list[i].cluster,node_list[j].cluster)\n",
    "                node_list = [node_new] + node_list[:i] + node_list[(i+1):j] + node_list[(j+1):]\n",
    "                #print([node.cluster for node in node_list])\n",
    "                c = c - 1\n",
    "                flag = True\n",
    "                break\n",
    "        if(flag == True):\n",
    "            break\n",
    "    if(flag == False):\n",
    "        c = 1\n",
    "        "
   ]
  },
  {
   "cell_type": "code",
   "execution_count": 377,
   "metadata": {
    "collapsed": false
   },
   "outputs": [
    {
     "data": {
      "text/plain": [
       "50"
      ]
     },
     "execution_count": 377,
     "metadata": {},
     "output_type": "execute_result"
    }
   ],
   "source": [
    "len(node_list)"
   ]
  },
  {
   "cell_type": "code",
   "execution_count": 378,
   "metadata": {
    "collapsed": false
   },
   "outputs": [
    {
     "data": {
      "text/plain": [
       "50"
      ]
     },
     "execution_count": 378,
     "metadata": {},
     "output_type": "execute_result"
    }
   ],
   "source": [
    "len(np.unique([node.cluster for node in node_list]))"
   ]
  },
  {
   "cell_type": "code",
   "execution_count": 379,
   "metadata": {
    "collapsed": false
   },
   "outputs": [
    {
     "data": {
      "text/plain": [
       "50"
      ]
     },
     "execution_count": 379,
     "metadata": {},
     "output_type": "execute_result"
    }
   ],
   "source": [
    "len(np.unique([node.cluster for node in node_list_cluster]))"
   ]
  },
  {
   "cell_type": "code",
   "execution_count": 308,
   "metadata": {
    "collapsed": false
   },
   "outputs": [
    {
     "data": {
      "text/plain": [
       "[0, 0, 0, 0, 0]"
      ]
     },
     "execution_count": 308,
     "metadata": {},
     "output_type": "execute_result"
    }
   ],
   "source": [
    "[node.cluster for node in node_list_copy]"
   ]
  },
  {
   "cell_type": "code",
   "execution_count": null,
   "metadata": {
    "collapsed": true
   },
   "outputs": [],
   "source": []
  },
  {
   "cell_type": "code",
   "execution_count": null,
   "metadata": {
    "collapsed": true
   },
   "outputs": [],
   "source": []
  }
 ],
 "metadata": {
  "anaconda-cloud": {},
  "kernelspec": {
   "display_name": "Python [conda root]",
   "language": "python",
   "name": "conda-root-py"
  },
  "language_info": {
   "codemirror_mode": {
    "name": "ipython",
    "version": 3
   },
   "file_extension": ".py",
   "mimetype": "text/x-python",
   "name": "python",
   "nbconvert_exporter": "python",
   "pygments_lexer": "ipython3",
   "version": "3.5.2"
  }
 },
 "nbformat": 4,
 "nbformat_minor": 1
}
