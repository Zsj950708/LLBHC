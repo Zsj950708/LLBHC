{
 "cells": [
  {
   "cell_type": "code",
   "execution_count": null,
   "metadata": {
    "collapsed": true
   },
   "outputs": [],
   "source": [
    "from scipy import special\n",
    "import numpy as np\n",
    "import matplotlib.pyplot as plt"
   ]
  },
  {
   "cell_type": "code",
   "execution_count": null,
   "metadata": {
    "collapsed": true
   },
   "outputs": [],
   "source": [
    "## object class for node\n",
    "class node():\n",
    "    \"\"\"the class for each node\"\"\"\n",
    "    \n",
    "    def __init__(self, left, right, dk):\n",
    "        self.l = left\n",
    "        self.r = right\n",
    "        self.d = dk"
   ]
  },
  {
   "cell_type": "code",
   "execution_count": null,
   "metadata": {
    "collapsed": true
   },
   "outputs": [],
   "source": [
    "## function to calculate the probability of first hypothesis\n",
    "def p_hyp1(dataset, a, b):\n",
    "    # initiate probability\n",
    "    p = 1\n",
    "    \n",
    "    # extract the number of features and the total number of data\n",
    "    k = dataset.shape[1]\n",
    "    N = dataset.shape[0]\n",
    "    \n",
    "    # iterate to calculate the probability\n",
    "    for i in range(k):\n",
    "        mi = sum(dataset[:,i])\n",
    "        dom = special.gamma(a[i] + b[i]) * special.gamma(a[i] + mi) * special.gamma(b[i] + N - mi)\n",
    "        denom = special.gamma(a[i]) * special.gamma(b[i]) * special.gamma(a[i] + b[i] + N)\n",
    "        pi = dom / denom\n",
    "        p = p * pi\n",
    "    \n",
    "    return p"
   ]
  },
  {
   "cell_type": "code",
   "execution_count": null,
   "metadata": {
    "collapsed": true
   },
   "outputs": [],
   "source": []
  },
  {
   "cell_type": "code",
   "execution_count": null,
   "metadata": {
    "collapsed": true
   },
   "outputs": [],
   "source": []
  },
  {
   "cell_type": "code",
   "execution_count": null,
   "metadata": {
    "collapsed": true
   },
   "outputs": [],
   "source": []
  }
 ],
 "metadata": {
  "anaconda-cloud": {},
  "kernelspec": {
   "display_name": "Python [conda root]",
   "language": "python",
   "name": "conda-root-py"
  },
  "language_info": {
   "codemirror_mode": {
    "name": "ipython",
    "version": 3
   },
   "file_extension": ".py",
   "mimetype": "text/x-python",
   "name": "python",
   "nbconvert_exporter": "python",
   "pygments_lexer": "ipython3",
   "version": "3.5.2"
  }
 },
 "nbformat": 4,
 "nbformat_minor": 1
}
