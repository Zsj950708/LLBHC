{
 "cells": [
  {
   "cell_type": "code",
   "execution_count": 486,
   "metadata": {
    "collapsed": true
   },
   "outputs": [],
   "source": [
    "from scipy import special\n",
    "import numpy as np\n",
    "import matplotlib.pyplot as plt\n",
    "from numba import jit, vectorize, float64, int64"
   ]
  },
  {
   "cell_type": "code",
   "execution_count": null,
   "metadata": {
    "collapsed": true
   },
   "outputs": [],
   "source": []
  },
  {
   "cell_type": "code",
   "execution_count": 487,
   "metadata": {
    "collapsed": true
   },
   "outputs": [],
   "source": [
    "## object class for node\n",
    "class node():\n",
    "    \"\"\"the class for each node\"\"\"\n",
    "    \n",
    "    def __init__(self, left, right, data, cnum):\n",
    "        self.l = left\n",
    "        self.r = right\n",
    "        if(left == None and right == None):\n",
    "            self.n = 1\n",
    "        else:\n",
    "            self.n = left.n + right.n\n",
    "        self.data = data\n",
    "        self.cluster = cnum"
   ]
  },
  {
   "cell_type": "code",
   "execution_count": 489,
   "metadata": {
    "collapsed": false
   },
   "outputs": [],
   "source": [
    "@jit(float64(float64[:,:], int64[:]))\n",
    "## function to calculate the posterior probability\n",
    "def p_hyp1(dataset, a):\n",
    "    # extract the number of features and the total number of data\n",
    "    #print(dataset)\n",
    "    if (len(dataset.shape) == 1):\n",
    "        N = 1\n",
    "        k = dataset.shape[0]\n",
    "        #print(k)\n",
    "        # part I\n",
    "        p1 = 1\n",
    "        comp = special.gamma(np.sum(dataset)+1) / np.prod(special.gamma(dataset+1))\n",
    "        p1 = p1 * comp\n",
    "        \n",
    "        # part II\n",
    "        # iterate to calculate the probability\n",
    "        p2 = p1 * special.gamma(np.sum(a)) / special.gamma(np.sum(dataset) + np.sum(a))\n",
    "        for j in range(k):\n",
    "            #print(j)\n",
    "            comp = special.gamma(a[j] + np.sum(dataset[j])) / special.gamma(a[j])\n",
    "            p2 = p2 * comp\n",
    "    else:\n",
    "        N = dataset.shape[0]\n",
    "        k = dataset.shape[1]\n",
    "        #print(k)\n",
    "    \n",
    "        # part I\n",
    "        p1 = 1\n",
    "        for i in range(N):\n",
    "            comp = special.gamma(np.sum(dataset[i, :])+1) / np.prod(special.gamma(dataset[i, :]+1))\n",
    "            p1 = p1 * comp\n",
    "        \n",
    "        # part II\n",
    "        # iterate to calculate the probability\n",
    "        p2 = p1 * special.gamma(np.sum(a)) / special.gamma(np.sum(dataset) + np.sum(a))\n",
    "        for j in range(k):\n",
    "            #print(j)\n",
    "            comp = special.gamma(a[j] + np.sum(dataset[:, j])) / special.gamma(a[j])\n",
    "            p2 = p2 * comp\n",
    "\n",
    "    return p2"
   ]
  },
  {
   "cell_type": "code",
   "execution_count": 490,
   "metadata": {
    "collapsed": true
   },
   "outputs": [],
   "source": [
    "## function to calculate the d\n",
    "def get_d(node, a):\n",
    "    if node.l == None and node.r == None:\n",
    "        return a\n",
    "    else:\n",
    "        return a*special.gamma(node.n) + get_d(node.l, a)*get_d(node.r, a)"
   ]
  },
  {
   "cell_type": "code",
   "execution_count": 491,
   "metadata": {
    "collapsed": true
   },
   "outputs": [],
   "source": [
    "## function to calculate the weight or pi\n",
    "def get_pi(node, a):\n",
    "    dk = get_d(node, a)\n",
    "    pi_k = a*special.gamma(node.n)/dk\n",
    "    return pi_k"
   ]
  },
  {
   "cell_type": "code",
   "execution_count": 492,
   "metadata": {
    "collapsed": true
   },
   "outputs": [],
   "source": [
    "# get dk\n",
    "def get_dk(node, a):\n",
    "    post = p_hyp1(node.data, np.repeat(a, data.shape[1]))\n",
    "    pi = get_pi(node, a)\n",
    "    if node.l == None and node.r == None:\n",
    "        return  pi * post\n",
    "    else:\n",
    "        return  pi * post + (1-pi) * get_dk(node.l, a) * get_dk(node.r, a)"
   ]
  },
  {
   "cell_type": "code",
   "execution_count": 493,
   "metadata": {
    "collapsed": false
   },
   "outputs": [
    {
     "data": {
      "text/plain": [
       "array([[1, 3, 0, 2, 3],\n",
       "       [3, 3, 0, 1, 3],\n",
       "       [2, 3, 1, 0, 2],\n",
       "       [1, 2, 2, 3, 1],\n",
       "       [2, 2, 0, 2, 3]])"
      ]
     },
     "execution_count": 493,
     "metadata": {},
     "output_type": "execute_result"
    }
   ],
   "source": [
    "## test dataset\n",
    "sdata = np.random.randint(0,4, size=(5,5))\n",
    "sdata"
   ]
  },
  {
   "cell_type": "code",
   "execution_count": 494,
   "metadata": {
    "collapsed": false
   },
   "outputs": [
    {
     "data": {
      "text/plain": [
       "array([[ 7,  1,  0, ...,  1,  9,  5],\n",
       "       [ 8,  1,  0, ...,  1, 10,  5],\n",
       "       [ 8,  1,  0, ...,  1, 10,  5],\n",
       "       ..., \n",
       "       [ 6,  1,  0, ...,  1, 11,  6],\n",
       "       [ 6,  1,  0, ...,  1, 10,  5],\n",
       "       [ 6,  0,  0, ...,  1, 11,  6]])"
      ]
     },
     "execution_count": 494,
     "metadata": {},
     "output_type": "execute_result"
    }
   ],
   "source": [
    "with open(\"wine.csv\") as f:\n",
    "    next(f)\n",
    "    text = f.read() \n",
    "\n",
    "data = []\n",
    "lines  = text.split('\\n')\n",
    "for line in lines[:-1]:\n",
    "    arr = line.split(';')\n",
    "    fl = [int(np.round(float(x))) for x in arr]\n",
    "    data.append(fl)\n",
    "\n",
    "data = np.array(data)\n",
    "data"
   ]
  },
  {
   "cell_type": "code",
   "execution_count": 497,
   "metadata": {
    "collapsed": false
   },
   "outputs": [],
   "source": [
    "tdata = data[:10,:5]"
   ]
  },
  {
   "cell_type": "code",
   "execution_count": 498,
   "metadata": {
    "collapsed": false
   },
   "outputs": [],
   "source": [
    "def bhc(data, a=1, r_thres=0.5):\n",
    "    node_list = []\n",
    "    node_list_copy = []\n",
    "    for i in range(data.shape[0]):\n",
    "        node_list.append(node(None, None, np.array([data[i,:]]), i))\n",
    "        node_list_copy.append(node(None, None, np.array([data[i,:]]), i))\n",
    "    #print(node_list)\n",
    "    \n",
    "    c = data.shape[0]\n",
    "    \n",
    "    while c > 1:\n",
    "        flag = False\n",
    "        #print([node.cluster for node in node_list_copy])\n",
    "        for i in range(len(node_list)):\n",
    "            for j in range(i+1, len(node_list)):\n",
    "                #print(\"first node:\", node_list[i].data)\n",
    "                #print(\"second node:\", node_list[j].data)\n",
    "                #if len(node_list[i].data.shape) == 1 and len(node_list[j].data.shape) == 1:\n",
    "                    #newdata = np.array([node_list[i].data, node_list[i].data])\n",
    "                #else:\n",
    "                newdata = np.concatenate((node_list[i].data, node_list[j].data), axis = 0)\n",
    "                #print(np.concatenate((node_list[i].data, node_list[j].data), axis = 0))\n",
    "                node_new = node(node_list[i], node_list[j], newdata, min(node_list[i].cluster,node_list[j].cluster))\n",
    "                pi_k = get_pi(node_new, a)\n",
    "                print(pi_k)\n",
    "                p_hyp = p_hyp1(node_new.data, np.repeat(a, data.shape[1]))\n",
    "                print(p_hyp)\n",
    "                p_dk = get_dk(node_new, a)\n",
    "                print(p_dk)\n",
    "                rk = pi_k * p_hyp / p_dk\n",
    "                #print(rk)\n",
    "                if rk >= r_thres:\n",
    "                    for k in range(len(node_list_copy)):\n",
    "                        entry = node_list_copy[k].cluster\n",
    "                        if entry == node_list[i].cluster or entry == node_list[j].cluster:\n",
    "                            node_list_copy[k].cluster = min(node_list[i].cluster,node_list[j].cluster)\n",
    "                    node_list =  node_list[:i] + node_list[(i+1):j] + node_list[(j+1):]\n",
    "                    node_list = [node_new] + node_list\n",
    "                    #print([node.cluster for node in node_list])\n",
    "                    c = c - 1\n",
    "                    flag = True\n",
    "                    break\n",
    "            if(flag == True):\n",
    "                break\n",
    "        \n",
    "        if(flag == False):\n",
    "            c = 1        \n",
    "        #print(c)\n",
    "    return node_list, node_list_copy\n",
    "    "
   ]
  },
  {
   "cell_type": "code",
   "execution_count": 499,
   "metadata": {
    "collapsed": false
   },
   "outputs": [
    {
     "data": {
      "text/plain": [
       "array([[ 7,  1,  0,  2,  0],\n",
       "       [ 8,  1,  0,  3,  0],\n",
       "       [ 8,  1,  0,  2,  0],\n",
       "       [11,  0,  1,  2,  0],\n",
       "       [ 7,  1,  0,  2,  0],\n",
       "       [ 7,  1,  0,  2,  0],\n",
       "       [ 8,  1,  0,  2,  0],\n",
       "       [ 7,  1,  0,  1,  0],\n",
       "       [ 8,  1,  0,  2,  0],\n",
       "       [ 8,  0,  0,  6,  0]])"
      ]
     },
     "execution_count": 499,
     "metadata": {},
     "output_type": "execute_result"
    }
   ],
   "source": [
    "tdata"
   ]
  },
  {
   "cell_type": "code",
   "execution_count": 500,
   "metadata": {
    "collapsed": false,
    "scrolled": true
   },
   "outputs": [
    {
     "name": "stdout",
     "output_type": "stream",
     "text": [
      "0.5\n",
      "1.33128414189e-05\n",
      "5.15232463476e-10\n",
      "0.5\n",
      "4.80976074773e-07\n",
      "2.07134316484e-12\n",
      "0.6\n",
      "3.83213331073e-09\n",
      "2.52372357587e-15\n",
      "0.705882352941\n",
      "2.1018439599e-10\n",
      "5.05059038668e-17\n",
      "0.779220779221\n",
      "1.30712986589e-11\n",
      "1.27229338988e-18\n",
      "0.823798627002\n",
      "8.35393751282e-13\n",
      "3.29605358114e-20\n",
      "0.852215082854\n",
      "6.60479493437e-14\n",
      "1.34267571441e-21\n",
      "0.872085478219\n",
      "4.82785695329e-15\n",
      "4.66294650314e-23\n",
      "0.886989934346\n",
      "4.18770573233e-17\n",
      "1.72582164001e-25\n"
     ]
    }
   ],
   "source": [
    "node_list, node_list_cluster = bhc(tdata, a=1, r_thres=0)"
   ]
  },
  {
   "cell_type": "code",
   "execution_count": 501,
   "metadata": {
    "collapsed": false
   },
   "outputs": [
    {
     "data": {
      "text/plain": [
       "[0, 0, 0, 0, 0, 0, 0, 0, 0, 0]"
      ]
     },
     "execution_count": 501,
     "metadata": {},
     "output_type": "execute_result"
    }
   ],
   "source": [
    "[node.cluster for node in node_list_cluster]"
   ]
  },
  {
   "cell_type": "code",
   "execution_count": 502,
   "metadata": {
    "collapsed": false
   },
   "outputs": [
    {
     "data": {
      "text/plain": [
       "[array([[ 7,  1,  0,  2,  0],\n",
       "        [ 8,  1,  0,  3,  0],\n",
       "        [ 8,  1,  0,  2,  0],\n",
       "        [11,  0,  1,  2,  0],\n",
       "        [ 7,  1,  0,  2,  0],\n",
       "        [ 7,  1,  0,  2,  0],\n",
       "        [ 8,  1,  0,  2,  0],\n",
       "        [ 7,  1,  0,  1,  0],\n",
       "        [ 8,  1,  0,  2,  0],\n",
       "        [ 8,  0,  0,  6,  0]])]"
      ]
     },
     "execution_count": 502,
     "metadata": {},
     "output_type": "execute_result"
    }
   ],
   "source": [
    "[node.data for node in node_list]"
   ]
  },
  {
   "cell_type": "code",
   "execution_count": 503,
   "metadata": {
    "collapsed": false,
    "scrolled": true
   },
   "outputs": [
    {
     "name": "stdout",
     "output_type": "stream",
     "text": [
      "[0]\n"
     ]
    }
   ],
   "source": [
    "print([node.cluster for node in node_list])"
   ]
  },
  {
   "cell_type": "code",
   "execution_count": 504,
   "metadata": {
    "collapsed": false
   },
   "outputs": [
    {
     "data": {
      "text/plain": [
       "1"
      ]
     },
     "execution_count": 504,
     "metadata": {},
     "output_type": "execute_result"
    }
   ],
   "source": [
    "len(node_list)"
   ]
  },
  {
   "cell_type": "code",
   "execution_count": 505,
   "metadata": {
    "collapsed": false
   },
   "outputs": [
    {
     "data": {
      "text/plain": [
       "1"
      ]
     },
     "execution_count": 505,
     "metadata": {},
     "output_type": "execute_result"
    }
   ],
   "source": [
    "len(np.unique([node.cluster for node in node_list]))"
   ]
  },
  {
   "cell_type": "code",
   "execution_count": 506,
   "metadata": {
    "collapsed": false
   },
   "outputs": [
    {
     "data": {
      "text/plain": [
       "1"
      ]
     },
     "execution_count": 506,
     "metadata": {},
     "output_type": "execute_result"
    }
   ],
   "source": [
    "len(np.unique([node.cluster for node in node_list_cluster]))"
   ]
  },
  {
   "cell_type": "code",
   "execution_count": null,
   "metadata": {
    "collapsed": true
   },
   "outputs": [],
   "source": []
  },
  {
   "cell_type": "code",
   "execution_count": null,
   "metadata": {
    "collapsed": true
   },
   "outputs": [],
   "source": []
  }
 ],
 "metadata": {
  "anaconda-cloud": {},
  "kernelspec": {
   "display_name": "Python [conda root]",
   "language": "python",
   "name": "conda-root-py"
  },
  "language_info": {
   "codemirror_mode": {
    "name": "ipython",
    "version": 3
   },
   "file_extension": ".py",
   "mimetype": "text/x-python",
   "name": "python",
   "nbconvert_exporter": "python",
   "pygments_lexer": "ipython3",
   "version": "3.5.2"
  }
 },
 "nbformat": 4,
 "nbformat_minor": 1
}
