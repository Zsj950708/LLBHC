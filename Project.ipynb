{
 "cells": [
  {
   "cell_type": "code",
   "execution_count": 6,
   "metadata": {
    "collapsed": true
   },
   "outputs": [],
   "source": [
    "from scipy import special\n",
    "import numpy as np\n",
    "import matplotlib.pyplot as plt"
   ]
  },
  {
   "cell_type": "code",
   "execution_count": 59,
   "metadata": {
    "collapsed": true
   },
   "outputs": [],
   "source": [
    "## object class for node\n",
    "class node():\n",
    "    \"\"\"the class for each node\"\"\"\n",
    "    \n",
    "    def __init__(self, left, right, data):\n",
    "        self.l = left\n",
    "        self.r = right\n",
    "        if(left == None and right == None):\n",
    "            self.n = 1\n",
    "        else:\n",
    "            self.n = left.n + right.n\n",
    "        self.data = data"
   ]
  },
  {
   "cell_type": "code",
   "execution_count": 47,
   "metadata": {
    "collapsed": true
   },
   "outputs": [],
   "source": [
    "## function to calculate the posterior probability\n",
    "def p_hyp1(dataset, a):\n",
    "    # extract the number of features and the total number of data\n",
    "    k = dataset.shape[1]\n",
    "    N = dataset.shape[0]\n",
    "    \n",
    "    # part I\n",
    "    p1 = 1\n",
    "    for i in range(N):\n",
    "        comp = special.gamma(np.sum(dataset[i, :])+1) / np.prod(special.gamma(dataset[i, :]+1))\n",
    "        p1 = p1 * comp\n",
    "    \n",
    "    # part II\n",
    "    # iterate to calculate the probability\n",
    "    p2 = p1 * special.gamma(np.sum(a)) / special.gamma(np.sum(dataset) + np.sum(a))\n",
    "    for j in range(k):\n",
    "        comp = special.gamma(a[j] + np.sum(dataset[:, j])) / special.gamma(a[j])\n",
    "        p2 = p2 * comp\n",
    "\n",
    "    return p2"
   ]
  },
  {
   "cell_type": "code",
   "execution_count": 48,
   "metadata": {
    "collapsed": true
   },
   "outputs": [],
   "source": [
    "## function to calculate the d\n",
    "def get_d(node, a):\n",
    "    if node.l == None and node.r == None:\n",
    "        return a\n",
    "    else:\n",
    "        return a*special.gamma(node.n) + get_d(node.l, a)*get_d(node.r, a)"
   ]
  },
  {
   "cell_type": "code",
   "execution_count": 49,
   "metadata": {
    "collapsed": true
   },
   "outputs": [],
   "source": [
    "## function to calculate the weight or pi\n",
    "def get_pi(node, a):\n",
    "    dk = get_d(node, a)\n",
    "    pi_k = a*special.gamma(node.n)/dk\n",
    "    return pi_k"
   ]
  },
  {
   "cell_type": "code",
   "execution_count": 50,
   "metadata": {
    "collapsed": false
   },
   "outputs": [
    {
     "data": {
      "text/plain": [
       "6.6140820029103093e-13"
      ]
     },
     "execution_count": 50,
     "metadata": {},
     "output_type": "execute_result"
    }
   ],
   "source": [
    "# test function\n",
    "p_hyp1(data, a)"
   ]
  },
  {
   "cell_type": "code",
   "execution_count": 51,
   "metadata": {
    "collapsed": false
   },
   "outputs": [
    {
     "data": {
      "text/plain": [
       "0.5"
      ]
     },
     "execution_count": 51,
     "metadata": {},
     "output_type": "execute_result"
    }
   ],
   "source": [
    "# test functions\n",
    "n1 = node(left = None, right = None)\n",
    "n2 = node(left = None, right = None)\n",
    "n3 = node(left = n1, right = n2)\n",
    "get_pi(n3,1)"
   ]
  },
  {
   "cell_type": "code",
   "execution_count": 53,
   "metadata": {
    "collapsed": false
   },
   "outputs": [
    {
     "data": {
      "text/plain": [
       "array([[0, 2, 0, 1, 1],\n",
       "       [2, 3, 2, 3, 2],\n",
       "       [3, 0, 3, 0, 0],\n",
       "       [3, 2, 3, 2, 0],\n",
       "       [0, 1, 1, 1, 3]])"
      ]
     },
     "execution_count": 53,
     "metadata": {},
     "output_type": "execute_result"
    }
   ],
   "source": [
    "## test dataset\n",
    "data = np.random.randint(0,4, size=(5,5))\n",
    "a = [1,1,1,1,1]\n",
    "data"
   ]
  },
  {
   "cell_type": "code",
   "execution_count": 60,
   "metadata": {
    "collapsed": true
   },
   "outputs": [],
   "source": [
    "# get dk\n",
    "def get_dk(node, a):\n",
    "    post = p_hyp1(node_new.data, np.repeat(a, data.shape[1]))\n",
    "    pi = get_pi(node, a)\n",
    "    if node.l == None and node.r == None:\n",
    "        return  pi * post\n",
    "    else:\n",
    "        return  pi * post + (1-pi) * get_dk(node.l) * get_dk(node.r)"
   ]
  },
  {
   "cell_type": "code",
   "execution_count": 56,
   "metadata": {
    "collapsed": false
   },
   "outputs": [],
   "source": [
    "node_list = []\n",
    "for i in range(data.shape[0]):\n",
    "    node_list.append(node(None, None, data[i,:]))\n",
    "\n",
    "c = data.shape[0]\n",
    "a = 1\n",
    "\n",
    "while c > 1:\n",
    "    flag = False\n",
    "    for i in range(len(node_list)):\n",
    "        for j in range(i+1, len(node_list)):\n",
    "            node_new = node(node_list[i], node_list[j], np.concatenate((node_list[i].data, node_list[j].data), axis=0))\n",
    "            pi_k = get_pi(node_new, a)\n",
    "            p_hyp1(node_new.data, np.repeat(a, data.shape[1]))\n",
    "            p_dk = get_dk(node_new)\n",
    "            rk = pi_k * p_hyp1 / p_dk\n",
    "            if rk > 0.5:\n",
    "                node_list.append(node_new)\n",
    "                node_list = node_list[:i] + node_list[i+1:j] + node_list[j:]\n",
    "                c = c - 1\n",
    "                flag = True\n",
    "                next\n",
    "    if(!flag):\n",
    "        c = 1\n",
    "    \n",
    "    "
   ]
  },
  {
   "cell_type": "code",
   "execution_count": 79,
   "metadata": {
    "collapsed": false
   },
   "outputs": [
    {
     "data": {
      "text/plain": [
       "[0, 1, 4, 5, 9]"
      ]
     },
     "execution_count": 79,
     "metadata": {},
     "output_type": "execute_result"
    }
   ],
   "source": [
    "a = list(range(10))\n",
    "a[:2] + a[4:6] + a[9:]"
   ]
  },
  {
   "cell_type": "code",
   "execution_count": 82,
   "metadata": {
    "collapsed": false
   },
   "outputs": [
    {
     "data": {
      "text/plain": [
       "[0, 1, 2]"
      ]
     },
     "execution_count": 82,
     "metadata": {},
     "output_type": "execute_result"
    }
   ],
   "source": [
    "list(range(0,3))"
   ]
  },
  {
   "cell_type": "code",
   "execution_count": null,
   "metadata": {
    "collapsed": true
   },
   "outputs": [],
   "source": []
  }
 ],
 "metadata": {
  "anaconda-cloud": {},
  "kernelspec": {
   "display_name": "Python [conda root]",
   "language": "python",
   "name": "conda-root-py"
  },
  "language_info": {
   "codemirror_mode": {
    "name": "ipython",
    "version": 3
   },
   "file_extension": ".py",
   "mimetype": "text/x-python",
   "name": "python",
   "nbconvert_exporter": "python",
   "pygments_lexer": "ipython3",
   "version": "3.5.2"
  }
 },
 "nbformat": 4,
 "nbformat_minor": 1
}
