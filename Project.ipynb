{
 "cells": [
  {
   "cell_type": "code",
   "execution_count": 1,
   "metadata": {
    "collapsed": true
   },
   "outputs": [],
   "source": [
    "from scipy import special\n",
    "import numpy as np\n",
    "import matplotlib.pyplot as plt"
   ]
  },
  {
   "cell_type": "code",
   "execution_count": 2,
   "metadata": {
    "collapsed": true
   },
   "outputs": [],
   "source": [
    "## object class for node\n",
    "class node():\n",
    "    \"\"\"the class for each node\"\"\"\n",
    "    \n",
    "    def __init__(self, left, right, data):\n",
    "        self.l = left\n",
    "        self.r = right\n",
    "        if(left == None and right == None):\n",
    "            self.n = 1\n",
    "        else:\n",
    "            self.n = left.n + right.n\n",
    "        self.data = data"
   ]
  },
  {
   "cell_type": "code",
   "execution_count": 3,
   "metadata": {
    "collapsed": true
   },
   "outputs": [],
   "source": [
    "## function to calculate the posterior probability\n",
    "def p_hyp1(dataset, a):\n",
    "    # extract the number of features and the total number of data\n",
    "    if (len(dataset.shape) == 1):\n",
    "        N = 1\n",
    "        k = dataset.shape[0]\n",
    "        print(k)\n",
    "        # part I\n",
    "        p1 = 1\n",
    "        comp = special.gamma(np.sum(dataset)+1) / np.prod(special.gamma(dataset+1))\n",
    "        p1 = p1 * comp\n",
    "        \n",
    "        # part II\n",
    "        # iterate to calculate the probability\n",
    "        p2 = p1 * special.gamma(np.sum(a)) / special.gamma(np.sum(dataset) + np.sum(a))\n",
    "        for j in range(k):\n",
    "            print(j)\n",
    "            comp = special.gamma(a[j] + np.sum(dataset[j])) / special.gamma(a[j])\n",
    "            p2 = p2 * comp\n",
    "    else:\n",
    "        N = dataset.shape[0]\n",
    "        k = dataset.shape[1]\n",
    "    \n",
    "        # part I\n",
    "        p1 = 1\n",
    "        for i in range(N):\n",
    "            comp = special.gamma(np.sum(dataset[i, :])+1) / np.prod(special.gamma(dataset[i, :]+1))\n",
    "            p1 = p1 * comp\n",
    "        \n",
    "        # part II\n",
    "        # iterate to calculate the probability\n",
    "        p2 = p1 * special.gamma(np.sum(a)) / special.gamma(np.sum(dataset) + np.sum(a))\n",
    "        for j in range(k):\n",
    "            comp = special.gamma(a[j] + np.sum(dataset[:, j])) / special.gamma(a[j])\n",
    "            p2 = p2 * comp\n",
    "\n",
    "    return p2"
   ]
  },
  {
   "cell_type": "code",
   "execution_count": 4,
   "metadata": {
    "collapsed": true
   },
   "outputs": [],
   "source": [
    "## function to calculate the d\n",
    "def get_d(node, a):\n",
    "    if node.l == None and node.r == None:\n",
    "        return a\n",
    "    else:\n",
    "        return a*special.gamma(node.n) + get_d(node.l, a)*get_d(node.r, a)"
   ]
  },
  {
   "cell_type": "code",
   "execution_count": 5,
   "metadata": {
    "collapsed": true
   },
   "outputs": [],
   "source": [
    "## function to calculate the weight or pi\n",
    "def get_pi(node, a):\n",
    "    dk = get_d(node, a)\n",
    "    pi_k = a*special.gamma(node.n)/dk\n",
    "    return pi_k"
   ]
  },
  {
   "cell_type": "code",
   "execution_count": 6,
   "metadata": {
    "collapsed": false
   },
   "outputs": [
    {
     "data": {
      "text/plain": [
       "array([[2, 1, 1, 2, 1],\n",
       "       [0, 2, 0, 1, 1],\n",
       "       [1, 0, 0, 3, 2],\n",
       "       [0, 3, 3, 1, 1],\n",
       "       [1, 1, 2, 2, 3]])"
      ]
     },
     "execution_count": 6,
     "metadata": {},
     "output_type": "execute_result"
    }
   ],
   "source": [
    "## test dataset\n",
    "data = np.random.randint(0,4, size=(5,5))\n",
    "a = [1,1,1,1,1]\n",
    "data"
   ]
  },
  {
   "cell_type": "code",
   "execution_count": 7,
   "metadata": {
    "collapsed": true
   },
   "outputs": [],
   "source": [
    "# get dk\n",
    "def get_dk(node, a):\n",
    "    post = p_hyp1(node_new.data, np.repeat(a, data.shape[1]))\n",
    "    pi = get_pi(node, a)\n",
    "    if node.l == None and node.r == None:\n",
    "        return  pi * post\n",
    "    else:\n",
    "        return  pi * post + (1-pi) * get_dk(node.l, a) * get_dk(node.r, a)"
   ]
  },
  {
   "cell_type": "code",
   "execution_count": 118,
   "metadata": {
    "collapsed": false
   },
   "outputs": [],
   "source": [
    "node_list = []\n",
    "for i in range(data.shape[0]):\n",
    "    node_list.append(node(None, None, np.array([data[i,:]])))\n",
    "\n",
    "c = data.shape[0]\n",
    "a = 1\n",
    "\n",
    "while c > 1:\n",
    "    flag = False\n",
    "    for i in range(len(node_list)):\n",
    "        for j in range(i+1, len(node_list)):\n",
    "            #print(node_list[i].data)\n",
    "            #print(node_list[j].data)\n",
    "            if len(node_list[i].data.shape) == 1 and len(node_list[j].data.shape) == 1:\n",
    "                newdata = np.array([node_list[i].data, node_list[i].data])\n",
    "            else:\n",
    "                newdata = np.concatenate((node_list[i].data, node_list[j].data), axis = 0)\n",
    "            #print(newdata)\n",
    "            node_new = node(node_list[i], node_list[j], newdata)\n",
    "            pi_k = get_pi(node_new, a)\n",
    "            p_hyp = p_hyp1(node_new.data, np.repeat(a, data.shape[1]))\n",
    "            p_dk = get_dk(node_new, a)\n",
    "            rk = pi_k * p_hyp / p_dk\n",
    "            #print(rk)\n",
    "            if rk > 0.5:\n",
    "                node_list.append(node_new)\n",
    "                node_list = node_list[:i] + node_list[(i+1):j] + node_list[(j+1):]\n",
    "                c = c - 1\n",
    "                flag = True\n",
    "                break\n",
    "        if(flag == True):\n",
    "            break\n",
    "    if(flag == False):\n",
    "        c = 1\n",
    "    \n",
    "    "
   ]
  },
  {
   "cell_type": "code",
   "execution_count": 116,
   "metadata": {
    "collapsed": false,
    "scrolled": true
   },
   "outputs": [
    {
     "data": {
      "text/plain": [
       "array([[ 7,  1,  0, ...,  1,  9,  5],\n",
       "       [ 8,  1,  0, ...,  1, 10,  5],\n",
       "       [ 8,  1,  0, ...,  1, 10,  5],\n",
       "       ..., \n",
       "       [ 6,  1,  0, ...,  1, 11,  6],\n",
       "       [ 6,  1,  0, ...,  1, 10,  5],\n",
       "       [ 6,  0,  0, ...,  1, 11,  6]])"
      ]
     },
     "execution_count": 116,
     "metadata": {},
     "output_type": "execute_result"
    }
   ],
   "source": [
    "with open(\"wine.csv\") as f:\n",
    "    next(f)\n",
    "    text = f.read() \n",
    "\n",
    "data = []\n",
    "lines  = text.split('\\n')\n",
    "for line in lines[:-1]:\n",
    "    arr = line.split(';')\n",
    "    fl = [int(np.round(float(x))) for x in arr]\n",
    "    data.append(fl)\n",
    "\n",
    "data = np.array(data)\n",
    "data"
   ]
  },
  {
   "cell_type": "code",
   "execution_count": 117,
   "metadata": {
    "collapsed": false
   },
   "outputs": [],
   "source": [
    "data = data[:200,:]"
   ]
  },
  {
   "cell_type": "code",
   "execution_count": 119,
   "metadata": {
    "collapsed": false
   },
   "outputs": [
    {
     "data": {
      "text/plain": [
       "[array([[ 8,  1,  0,  3,  0, 25, 67,  1,  3,  1, 10,  5]]),\n",
       " array([[  8,   0,   0,   6,   0,  17, 102,   1,   3,   1,  10,   5]]),\n",
       " array([[  8,   0,   0,   6,   0,  17, 102,   1,   3,   1,  10,   5]]),\n",
       " array([[  9,   1,   0,   4,   0,  52, 145,   1,   3,   1,   9,   5]]),\n",
       " array([[  9,   1,   0,   4,   0,  51, 148,   1,   3,   1,   9,   5]]),\n",
       " array([[  8,   0,   1,   2,   0,  35, 103,   1,   3,   1,  10,   7]]),\n",
       " array([[ 9,  0,  0,  2,  0, 29, 60,  1,  3,  1,  9,  6]]),\n",
       " array([[ 8,  0,  0,  2,  0, 23, 71,  1,  4,  1, 10,  5]]),\n",
       " array([[ 7,  1,  0,  2,  0, 17, 82,  1,  3,  1, 10,  5]]),\n",
       " array([[  8,   1,   0,   2,   0,  15, 113,   1,   3,   1,  10,   5]]),\n",
       " array([[ 7,  1,  0, 11,  0, 40, 83,  1,  3,  1,  9,  6]]),\n",
       " array([[ 7,  0,  0,  6,  0, 12, 87,  1,  3,  1, 10,  5]]),\n",
       " array([[ 7,  0,  0,  6,  0, 12, 87,  1,  3,  1, 10,  5]]),\n",
       " array([[  8,   1,   0,   2,   0,  22, 114,   1,   3,   1,   9,   5]]),\n",
       " array([[ 6,  0,  0,  1,  0, 12, 96,  1,  3,  1,  9,  5]]),\n",
       " array([[  9,   0,   0,   3,   0,  30, 119,   1,   3,   1,   9,   5]]),\n",
       " array([[ 8,  1,  0,  3,  0, 33, 73,  1,  3,  1, 10,  6]]),\n",
       " array([[  8,   1,   0,   5,   0,  50, 110,   1,   3,   1,   9,   5]]),\n",
       " array([[  8,   1,   0,   2,   0,  20, 112,   1,   3,   1,   9,   5]]),\n",
       " array([[ 9,  0,  1,  2,  0, 27, 65,  1,  3,  1, 11,  5]]),\n",
       " array([[ 8,  1,  0,  2,  0, 17, 96,  1,  3,  0, 10,  5]]),\n",
       " array([[ 8,  1,  0,  2,  0, 18, 94,  1,  3,  0, 10,  5]]),\n",
       " array([[10,  0,  1,  2,  0, 28, 83,  1,  3,  1, 10,  5]]),\n",
       " array([[ 7,  1,  0,  2,  0, 12, 80,  1,  3,  1, 10,  5]]),\n",
       " array([[  8,   1,   0,   2,   0,  27, 119,   1,   3,   1,   9,   4]]),\n",
       " array([[ 7,  0,  0,  2,  0, 21, 73,  1,  3,  1,  9,  5]]),\n",
       " array([[  9,   0,   0,   2,   0,  20, 136,   1,   3,   2,  10,   6]]),\n",
       " array([[  9,   0,   0,   2,   0,  34, 125,   1,   3,   1,  10,   5]]),\n",
       " array([[  8,   1,   0,   2,   0,  42, 140,   1,   3,   1,  10,   5]]),\n",
       " array([[  9,   0,   0,   2,   0,  20, 136,   1,   3,   2,  10,   6]]),\n",
       " array([[  9,   0,   0,   2,   0,  19, 133,   1,   3,   2,  10,   5]]),\n",
       " array([[ 5,  1,  0,  1,  0, 41, 85,  1,  4,  0, 10,  4]]),\n",
       " array([[  5,   1,   0,   2,   0,  17, 106,   1,   4,   1,  13,   6]]),\n",
       " array([[ 8,  0,  1,  2,  0, 18, 69,  1,  3,  1,  9,  5]]),\n",
       " array([[ 8,  0,  1,  2,  0, 18, 80,  1,  3,  1, 10,  6]]),\n",
       " array([[  8,   1,   1,   2,   0,  37, 153,   1,   3,   1,   9,   5]]),\n",
       " array([[  8,   1,   0,   2,   0,  11, 108,   1,   3,   1,  10,   5]]),\n",
       " array([[  8,   1,   0,   2,   0,  14, 111,   1,   3,   1,  10,   5]]),\n",
       " array([[ 7,  1,  0,  2,  0, 22, 89,  1,  3,  1,  9,  6]]),\n",
       " array([[ 7,  1,  0,  2,  0, 10, 89,  1,  3,  1,  9,  5]]),\n",
       " array([[  8,   0,   0,   2,   0,  21, 102,   1,   3,   0,  10,   5]]),\n",
       " array([[ 9,  1,  0,  2,  0, 27, 90,  1,  3,  1,  9,  5]]),\n",
       " array([[  8,   1,   1,   2,   0,  30, 134,   1,   3,   1,   9,   5]]),\n",
       " array([[ 6,  0,  0,  2,  0, 17, 99,  1,  4,  1, 13,  5]]),\n",
       " array([[ 6,  0,  0,  2,  0, 17, 99,  1,  4,  1, 13,  5]]),\n",
       " array([[ 8,  1,  0,  2,  0, 16, 63,  1,  3,  1, 10,  5]]),\n",
       " array([[  8,   1,   0,   2,   0,  15, 105,   1,   3,   1,  10,   5]]),\n",
       " array([[  8,   1,   0,   2,   0,  17, 108,   1,   3,   1,  10,   5]]),\n",
       " array([[ 8,  1,  0,  2,  0, 16, 63,  1,  3,  1, 10,  5]]),\n",
       " array([[ 5,  0,  0,  2,  0, 27, 63,  1,  4,  1, 14,  6]]),\n",
       " array([[ 5,  0,  0,  2,  0, 27, 63,  1,  4,  1, 14,  6]]),\n",
       " array([[  8,   1,   1,   2,   0,  32, 141,   1,   3,   1,   9,   5]]),\n",
       " array([[ 6,  1,  0,  2,  0, 21, 94,  1,  4,  1, 10,  5]]),\n",
       " array([[ 8,  0,  0,  2,  0, 10, 88,  1,  3,  1,  9,  5]]),\n",
       " array([[ 9,  1,  1,  3,  1, 32, 69,  1,  3,  2,  9,  4]]),\n",
       " array([[ 8,  1,  0,  2,  0, 25, 99,  1,  3,  1, 10,  5]]),\n",
       " array([[ 8,  1,  0,  2,  0, 25, 99,  1,  3,  1, 10,  5]]),\n",
       " array([[  7,   0,   0,   6,   0,  29, 129,   1,   3,   1,  10,   5]]),\n",
       " array([[  7,   0,   0,   6,   0,  28, 128,   1,   3,   1,  10,   5]]),\n",
       " array([[  7,   0,   0,   6,   0,  29, 129,   1,   3,   1,  10,   5]]),\n",
       " array([[  7,   0,   0,   6,   0,  28, 128,   1,   3,   1,  10,   5]]),\n",
       " array([[ 7,  1,  0,  2,  0, 18, 86,  1,  4,  1,  9,  6]]),\n",
       " array([[  7,   1,   0,   7,   0,  36, 121,   1,   3,   0,   9,   5]]),\n",
       " array([[  7,   1,   0,   7,   0,  35, 121,   1,   3,   0,   9,   5]]),\n",
       " array([[ 8,  1,  0,  2,  0, 14, 96,  1,  3,  1, 10,  5]]),\n",
       " array([[  7,   1,   0,   2,   0,  18, 101,   1,   3,   1,  10,   5]]),\n",
       " array([[ 8,  1,  0,  2,  0, 15, 63,  1,  3,  2, 10,  5]]),\n",
       " array([[ 7,  0,  0,  2,  0, 19, 49,  1,  3,  1, 10,  5]]),\n",
       " array([[  9,   1,   0,   2,   0,  23, 110,   1,   3,   1,   9,   5]]),\n",
       " array([[ 7,  1,  0,  2,  0, 16, 42,  1,  3,  1,  9,  5]]),\n",
       " array([[ 7,  1,  0,  2,  0, 11, 65,  1,  4,  1,  9,  5]]),\n",
       " array([[ 7,  1,  0,  2,  0,  8, 62,  1,  4,  1,  9,  6]]),\n",
       " array([[ 9,  0,  1,  2,  0, 26, 85,  1,  3,  1, 10,  5]]),\n",
       " array([[ 7,  0,  0,  2,  0, 14, 67,  1,  3,  1,  9,  5]]),\n",
       " array([[  8,   0,   0,   2,   0,  15, 143,   1,   3,   1,  10,   5]]),\n",
       " array([[  8,   0,   0,   2,   0,  17, 144,   1,   3,   1,  10,   5]]),\n",
       " array([[  8,   0,   0,   3,   0,  21, 127,   1,   3,   1,   9,   5]]),\n",
       " array([[ 6,  0,  0,  2,  0, 21, 49,  1,  4,  1, 10,  6]]),\n",
       " array([[  7,   1,   0,   4,   0,  16, 126,   1,   3,   1,  10,   5]]),\n",
       " array([[  8,   1,   0,   2,   0,  24, 120,   1,   3,   1,   9,   5]]),\n",
       " array([[ 7,  1,  0,  2,  0, 15, 55,  1,  3,  1, 10,  5]]),\n",
       " array([[ 5,  1,  0,  1,  0, 13, 93,  1,  4,  1, 13,  7]]),\n",
       " array([[ 7,  1,  0,  2,  0, 11, 34,  1,  4,  1,  9,  5],\n",
       "        [ 7,  1,  0,  2,  0, 11, 34,  1,  4,  1,  9,  5]]),\n",
       " array([[ 8,  1,  0,  2,  0, 15, 54,  1,  3,  1, 10,  5],\n",
       "        [ 8,  0,  0,  2,  0,  4, 11,  1,  3,  1, 10,  5]]),\n",
       " array([[11,  0,  1,  2,  0, 17, 60,  1,  3,  1, 10,  6],\n",
       "        [ 7,  1,  0,  2,  0,  5, 11,  1,  3,  1, 10,  5]]),\n",
       " array([[ 7,  1,  0,  2,  0, 13, 40,  1,  4,  1,  9,  5],\n",
       "        [ 7,  1,  0,  1,  0, 15, 21,  1,  3,  0, 10,  7]]),\n",
       " array([[ 8,  1,  0,  2,  0, 15, 59,  1,  3,  0,  9,  5],\n",
       "        [ 8,  1,  0,  2,  0,  8, 16,  1,  3,  1, 10,  6]]),\n",
       " array([[ 8,  1,  0,  2,  0,  9, 18,  1,  3,  1, 10,  7],\n",
       "        [ 8,  1,  0,  2,  0,  9, 29,  1,  3,  2,  9,  5]]),\n",
       " array([[ 7,  1,  0,  2,  0, 15, 65,  1,  3,  1,  9,  5],\n",
       "        [ 6,  0,  0,  2,  0,  5, 12,  1,  3,  1,  9,  5]]),\n",
       " array([[ 6,  1,  0,  2,  0, 16, 59,  1,  4,  1, 10,  5],\n",
       "        [ 8,  1,  0,  2,  0,  3, 15,  1,  3,  1, 11,  6]]),\n",
       " array([[ 8,  1,  0,  2,  0, 16, 56,  1,  3,  1,  9,  5],\n",
       "        [ 6,  1,  0,  2,  0,  7, 19,  1,  4,  0, 10,  4]]),\n",
       " array([[ 7,  1,  0,  4,  0,  6, 29,  1,  3,  0,  9,  4],\n",
       "        [ 8,  0,  0,  2,  0, 10, 37,  1,  3,  1, 10,  5]]),\n",
       " array([[ 8,  0,  1,  2,  0, 17, 56,  1,  3,  1,  9,  6],\n",
       "        [ 8,  0,  0,  3,  0,  8, 14,  1,  3,  1, 10,  6]]),\n",
       " array([[ 8,  0,  0,  2,  0,  9, 67,  1,  3,  1,  9,  5],\n",
       "        [ 7,  1,  0,  2,  0,  8, 15,  1,  3,  1,  9,  6]]),\n",
       " array([[ 7,  0,  0,  2,  0, 21, 40,  1,  3,  1, 10,  6],\n",
       "        [ 6,  0,  0,  1,  0, 11, 23,  1,  3,  1,  9,  5]]),\n",
       " array([[ 8,  0,  0,  2,  0, 10, 37,  1,  3,  1, 10,  5],\n",
       "        [ 7,  1,  0,  2,  0, 14, 35,  1,  3,  1,  9,  5]]),\n",
       " array([[ 7,  1,  0,  2,  0, 22, 37,  1,  3,  1, 11,  6],\n",
       "        [ 8,  1,  0,  6,  0,  5, 18,  1,  3,  1, 10,  6]]),\n",
       " array([[ 5,  0,  0,  2,  0, 13, 50,  1,  3,  1,  9,  5],\n",
       "        [ 8,  1,  0,  2,  0,  9, 23,  1,  3,  1, 10,  5]]),\n",
       " array([[ 8,  0,  0,  2,  0, 13, 30,  1,  3,  1, 10,  7],\n",
       "        [ 9,  0,  1,  2,  0, 12, 37,  1,  3,  1, 10,  5]]),\n",
       " array([[ 9,  1,  0,  3,  0, 17, 46,  1,  3,  1,  9,  4],\n",
       "        [ 9,  1,  0,  2,  0,  4, 23,  1,  3,  1,  9,  5]]),\n",
       " array([[ 5,  1,  0,  2,  0,  8, 65,  1,  4,  1, 13,  4],\n",
       "        [ 7,  0,  0,  2,  0,  6, 14,  1,  3,  1,  9,  6]]),\n",
       " array([[ 8,  1,  0,  4,  0, 25, 45,  1,  3,  1, 10,  5],\n",
       "        [10,  0,  1,  3,  0,  4, 10,  1,  3,  1, 10,  5]]),\n",
       " array([[ 8,  1,  0,  2,  0, 17, 54,  1,  3,  1, 10,  5],\n",
       "        [ 7,  1,  0,  5,  0,  4, 11,  1,  3,  0, 11,  5]]),\n",
       " array([[ 7,  0,  0,  2,  0,  9, 46,  1,  3,  1,  9,  6],\n",
       "        [ 7,  1,  0,  5,  0,  4, 11,  1,  3,  0, 11,  5]]),\n",
       " array([[ 9,  0,  0,  2,  0, 19, 52,  1,  3,  1,  9,  5],\n",
       "        [ 7,  1,  0,  2,  0,  6, 15,  1,  3,  1, 11,  5]]),\n",
       " array([[ 8,  1,  0,  2,  0, 12, 35,  1,  3,  1, 10,  7],\n",
       "        [ 8,  1,  0,  2,  0,  8, 19,  1,  3,  1, 10,  6]]),\n",
       " array([[ 7,  1,  0,  2,  0, 13, 54,  1,  3,  1, 10,  5],\n",
       "        [ 6,  0,  0,  2,  0,  3, 15,  1,  3,  1,  9,  5]]),\n",
       " array([[ 8,  1,  0,  2,  0, 11, 39,  1,  3,  1, 10,  5],\n",
       "        [ 8,  1,  0,  2,  0, 15, 27,  1,  3,  1, 10,  6]]),\n",
       " array([[ 8,  1,  0,  2,  0, 11, 43,  1,  3,  1,  9,  4],\n",
       "        [ 8,  0,  0,  2,  0,  9, 31,  1,  3,  1, 10,  5]]),\n",
       " array([[ 9,  0,  1,  2,  0,  9, 42,  1,  4,  1, 10,  5],\n",
       "        [ 7,  1,  0,  2,  0,  8, 24,  1,  3,  1,  9,  5]]),\n",
       " array([[ 9,  0,  1,  2,  0,  9, 42,  1,  4,  1, 10,  5],\n",
       "        [ 8,  0,  0,  2,  0,  9, 31,  1,  3,  1, 10,  5]]),\n",
       " array([[ 7,  1,  0,  2,  0, 14, 30,  1,  4,  1, 11,  6],\n",
       "        [ 7,  1,  0,  3,  0,  8, 23,  1,  3,  1, 11,  5]]),\n",
       " array([[ 8,  0,  1,  2,  0, 22, 67,  1,  3,  1,  9,  5],\n",
       "        [ 8,  1,  0,  2,  0,  4,  8,  1,  3,  0,  9,  4]]),\n",
       " array([[ 7,  1,  0,  2,  0, 16, 51,  1,  3,  1,  9,  5],\n",
       "        [ 7,  0,  0,  2,  0,  3, 22,  1,  3,  1,  9,  5]]),\n",
       " array([[ 6,  0,  0,  2,  0, 18, 61,  1,  3,  1, 10,  6],\n",
       "        [ 8,  1,  0,  2,  0,  5, 10,  1,  3,  1, 10,  5]]),\n",
       " array([[ 7,  1,  0,  2,  0, 19, 40,  1,  3,  1, 10,  5],\n",
       "        [ 8,  0,  0,  2,  0,  8, 22,  1,  3,  1, 10,  6]]),\n",
       " array([[ 8,  1,  0,  2,  0, 13, 35,  1,  3,  1,  9,  6],\n",
       "        [ 8,  1,  0,  2,  0, 13, 35,  1,  3,  1,  9,  6]]),\n",
       " array([[ 8,  1,  0,  2,  0, 11, 50,  1,  3,  1, 10,  6],\n",
       "        [ 8,  1,  0,  2,  0,  7, 28,  1,  3,  0,  9,  6]]),\n",
       " array([[ 8,  1,  0,  2,  0, 12, 65,  1,  3,  1,  9,  5],\n",
       "        [ 7,  1,  0,  2,  0,  3, 13,  1,  3,  1,  9,  5]]),\n",
       " array([[ 7,  0,  0,  2,  0,  5, 36,  1,  3,  0,  9,  5],\n",
       "        [ 8,  1,  0,  2,  0, 12, 47,  1,  3,  1, 10,  5]]),\n",
       " array([[ 8,  1,  0,  2,  0, 12, 65,  1,  3,  1,  9,  5],\n",
       "        [ 8,  1,  0,  2,  0,  3, 12,  1,  4,  0, 11,  5]]),\n",
       " array([[ 6,  1,  0,  2,  0, 15, 64,  1,  3,  1,  9,  5],\n",
       "        [ 8,  1,  0,  2,  0,  3, 12,  1,  4,  0, 11,  5]]),\n",
       " array([[10,  0,  0,  2,  0, 22, 46,  1,  3,  1, 10,  6],\n",
       "        [ 8,  1,  0,  2,  0,  3, 16,  1,  3,  1, 10,  7]]),\n",
       " array([[ 8,  1,  0,  2,  0, 12, 47,  1,  3,  1, 10,  5],\n",
       "        [ 6,  0,  0,  2,  0,  6, 19,  1,  3,  1,  9,  5]]),\n",
       " array([[ 9,  0,  0,  2,  0, 13, 62,  1,  3,  1, 10,  6],\n",
       "        [ 6,  0,  0,  2,  0,  3, 20,  1,  3,  1,  9,  5]]),\n",
       " array([[ 8,  1,  0,  2,  0, 11, 40,  1,  3,  1, 10,  6],\n",
       "        [ 7,  0,  0,  2,  0, 17, 26,  1,  3,  1, 10,  6]]),\n",
       " array([[ 9,  1,  0,  2,  0, 14, 56,  1,  3,  1, 11,  6],\n",
       "        [ 7,  0,  0,  2,  0,  5, 11,  1,  3,  1, 10,  6]]),\n",
       " array([[ 9,  1,  0,  2,  0, 14, 56,  1,  3,  1, 11,  6],\n",
       "        [ 8,  0,  0,  2,  0,  6, 18,  1,  3,  1,  9,  6]]),\n",
       " array([[ 8,  1,  0,  3,  0, 11, 34,  1,  3,  1, 10,  5],\n",
       "        [ 8,  1,  0,  2,  0, 13, 29,  1,  3,  1, 10,  6]]),\n",
       " array([[ 8,  1,  0,  2,  0, 10, 52,  1,  3,  1, 10,  5],\n",
       "        [ 7,  1,  0,  2,  0, 12, 22,  1,  3,  0,  9,  5]]),\n",
       " array([[ 7,  0,  0,  2,  0, 13, 45,  1,  3,  1,  9,  5],\n",
       "        [ 7,  0,  0,  2,  0, 12, 30,  1,  3,  1, 10,  6]]),\n",
       " array([[ 8,  1,  0,  2,  0, 10, 52,  1,  3,  1, 10,  5],\n",
       "        [ 8,  1,  0,  2,  0,  7, 20,  1,  3,  1, 10,  5]]),\n",
       " array([[ 8,  0,  0,  3,  0, 11, 43,  1,  4,  1, 10,  6],\n",
       "        [ 8,  1,  0,  1,  0,  9, 20,  1,  3,  1,  9,  4]]),\n",
       " array([[ 8,  1,  0,  2,  0, 17, 31,  1,  3,  1, 10,  6],\n",
       "        [ 8,  0,  0,  2,  0,  6, 18,  1,  3,  1,  9,  6]]),\n",
       " array([[ 7,  1,  0,  2,  0, 17, 42,  1,  3,  0,  9,  4],\n",
       "        [ 7,  0,  0,  2,  0,  7, 35,  1,  3,  0, 10,  5]]),\n",
       " array([[ 7,  1,  0,  2,  0, 11, 44,  1,  3,  1, 10,  6],\n",
       "        [ 7,  0,  0,  2,  0,  7, 35,  1,  3,  0, 10,  5]]),\n",
       " array([[ 7,  1,  0,  2,  0, 24, 42,  1,  3,  1, 12,  6],\n",
       "        [ 7,  1,  0,  2,  0,  7, 20,  1,  3,  1, 10,  5]]),\n",
       " array([[ 8,  1,  0,  2,  0,  8, 38,  1,  4,  1, 10,  6],\n",
       "        [ 8,  1,  0,  3,  0,  9, 26,  1,  3,  0, 10,  5]]),\n",
       " array([[ 9,  1,  0,  2,  0, 10, 42,  1,  3,  1, 10,  5],\n",
       "        [ 8,  1,  0,  2,  0,  7, 28,  1,  3,  1, 10,  5]]),\n",
       " array([[ 9,  1,  0,  2,  0, 10, 42,  1,  3,  1, 10,  5],\n",
       "        [ 8,  1,  0,  2,  0,  7, 28,  1,  3,  1, 10,  5]]),\n",
       " array([[12,  0,  1,  2,  0, 12, 27,  1,  3,  1, 10,  6],\n",
       "        [ 7,  1,  0,  2,  0, 12, 31,  1,  4,  0, 11,  4]])]"
      ]
     },
     "execution_count": 119,
     "metadata": {},
     "output_type": "execute_result"
    }
   ],
   "source": [
    "[node.data for node in node_list]"
   ]
  },
  {
   "cell_type": "code",
   "execution_count": 120,
   "metadata": {
    "collapsed": false
   },
   "outputs": [
    {
     "data": {
      "text/plain": [
       "141"
      ]
     },
     "execution_count": 120,
     "metadata": {},
     "output_type": "execute_result"
    }
   ],
   "source": [
    "len(node_list)"
   ]
  },
  {
   "cell_type": "code",
   "execution_count": null,
   "metadata": {
    "collapsed": true
   },
   "outputs": [],
   "source": []
  }
 ],
 "metadata": {
  "anaconda-cloud": {},
  "kernelspec": {
   "display_name": "Python [conda root]",
   "language": "python",
   "name": "conda-root-py"
  },
  "language_info": {
   "codemirror_mode": {
    "name": "ipython",
    "version": 3
   },
   "file_extension": ".py",
   "mimetype": "text/x-python",
   "name": "python",
   "nbconvert_exporter": "python",
   "pygments_lexer": "ipython3",
   "version": "3.5.2"
  }
 },
 "nbformat": 4,
 "nbformat_minor": 1
}
