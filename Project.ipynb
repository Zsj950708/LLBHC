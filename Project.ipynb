{
 "cells": [
  {
   "cell_type": "code",
   "execution_count": 6,
   "metadata": {
    "collapsed": true
   },
   "outputs": [],
   "source": [
    "from scipy import special\n",
    "import numpy as np\n",
    "import matplotlib.pyplot as plt"
   ]
  },
  {
   "cell_type": "code",
   "execution_count": 35,
   "metadata": {
    "collapsed": true
   },
   "outputs": [],
   "source": [
    "## object class for node\n",
    "class node():\n",
    "    \"\"\"the class for each node\"\"\"\n",
    "    \n",
    "    def __init__(self, left, right):\n",
    "        self.l = left\n",
    "        self.r = right\n",
    "        if(left == None and right == None):\n",
    "            self.n = 1\n",
    "        else:\n",
    "            self.n = left.n + right.n"
   ]
  },
  {
   "cell_type": "code",
   "execution_count": 23,
   "metadata": {
    "collapsed": true
   },
   "outputs": [],
   "source": [
    "## function to calculate the posterior probability\n",
    "def p_hyp1(dataset, a):\n",
    "    # extract the number of features and the total number of data\n",
    "    k = dataset.shape[1]\n",
    "    N = dataset.shape[0]\n",
    "    \n",
    "    # part I\n",
    "    p1 = 1\n",
    "    for i in range(N):\n",
    "        comp = special.gamma(np.sum(dataset[i, :])+1) / np.prod(special.gamma(dataset[i, :]+1))\n",
    "        p1 = p1 * comp\n",
    "    print(p1)\n",
    "    \n",
    "    # part II\n",
    "    # iterate to calculate the probability\n",
    "    p2 = p1 * special.gamma(np.sum(a)) / special.gamma(np.sum(dataset) + np.sum(a))\n",
    "    print(p2)\n",
    "    for j in range(k):\n",
    "        comp = special.gamma(a[j] + np.sum(dataset[:, j])) / special.gamma(a[j])\n",
    "        print(comp)\n",
    "        p2 = p2 * comp\n",
    "        \n",
    "    return p2"
   ]
  },
  {
   "cell_type": "code",
   "execution_count": 37,
   "metadata": {
    "collapsed": true
   },
   "outputs": [],
   "source": [
    "def get_d(node, a):\n",
    "    if node.l == None and node.r == None:\n",
    "        return a\n",
    "    else:\n",
    "        return a*special.gamma(node.n) + get_d(node.l, a)*get_d(node.r, a)"
   ]
  },
  {
   "cell_type": "code",
   "execution_count": 38,
   "metadata": {
    "collapsed": true
   },
   "outputs": [],
   "source": [
    "## function to calculate the weight or pi\n",
    "def get_pi(node, a):\n",
    "    dk = get_d(node, a)\n",
    "    pi_k = a*special.gamma(node.n)/dk\n",
    "    return pi_k"
   ]
  },
  {
   "cell_type": "code",
   "execution_count": 39,
   "metadata": {
    "collapsed": false
   },
   "outputs": [
    {
     "data": {
      "text/plain": [
       "0.5"
      ]
     },
     "execution_count": 39,
     "metadata": {},
     "output_type": "execute_result"
    }
   ],
   "source": [
    "n1 = node(left = None, right = None)\n",
    "n2 = node(left = None, right = None)\n",
    "n3 = node(left = n1, right = n2)\n",
    "get_pi(n3,1)"
   ]
  },
  {
   "cell_type": "code",
   "execution_count": 24,
   "metadata": {
    "collapsed": false
   },
   "outputs": [
    {
     "data": {
      "text/plain": [
       "array([[3, 0, 1, 0, 3],\n",
       "       [2, 0, 1, 2, 1],\n",
       "       [0, 1, 3, 3, 3],\n",
       "       [2, 1, 3, 3, 2],\n",
       "       [2, 0, 2, 1, 1]])"
      ]
     },
     "execution_count": 24,
     "metadata": {},
     "output_type": "execute_result"
    }
   ],
   "source": [
    "## BHC for Bernoulli\n",
    "data = np.random.randint(0,4, size=(5,5))\n",
    "a = [1,1,1,1,1]\n",
    "data"
   ]
  },
  {
   "cell_type": "code",
   "execution_count": 25,
   "metadata": {
    "collapsed": false
   },
   "outputs": [
    {
     "name": "stdout",
     "output_type": "stream",
     "text": [
      "2.112397056e+16\n",
      "1.90716139859e-37\n",
      "362880.0\n",
      "2.0\n",
      "3628800.0\n",
      "362880.0\n",
      "3628800.0\n"
     ]
    },
    {
     "data": {
      "text/plain": [
       "6.6140820029103093e-13"
      ]
     },
     "execution_count": 25,
     "metadata": {},
     "output_type": "execute_result"
    }
   ],
   "source": [
    "p_hyp1(data, a)"
   ]
  },
  {
   "cell_type": "code",
   "execution_count": null,
   "metadata": {
    "collapsed": true
   },
   "outputs": [],
   "source": []
  }
 ],
 "metadata": {
  "anaconda-cloud": {},
  "kernelspec": {
   "display_name": "Python [conda root]",
   "language": "python",
   "name": "conda-root-py"
  },
  "language_info": {
   "codemirror_mode": {
    "name": "ipython",
    "version": 3
   },
   "file_extension": ".py",
   "mimetype": "text/x-python",
   "name": "python",
   "nbconvert_exporter": "python",
   "pygments_lexer": "ipython3",
   "version": "3.5.2"
  }
 },
 "nbformat": 4,
 "nbformat_minor": 1
}
