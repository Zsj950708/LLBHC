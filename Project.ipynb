{
 "cells": [
  {
   "cell_type": "code",
   "execution_count": 1,
   "metadata": {
    "collapsed": true
   },
   "outputs": [],
   "source": [
    "from scipy import special\n",
    "import numpy as np\n",
    "import matplotlib.pyplot as plt"
   ]
  },
  {
   "cell_type": "code",
   "execution_count": 122,
   "metadata": {
    "collapsed": true
   },
   "outputs": [],
   "source": [
    "## object class for node\n",
    "class node():\n",
    "    \"\"\"the class for each node\"\"\"\n",
    "    \n",
    "    def __init__(self, left, right, data, cnum):\n",
    "        self.l = left\n",
    "        self.r = right\n",
    "        if(left == None and right == None):\n",
    "            self.n = 1\n",
    "        else:\n",
    "            self.n = left.n + right.n\n",
    "        self.data = data\n",
    "        self.cluster = cnum"
   ]
  },
  {
   "cell_type": "code",
   "execution_count": 269,
   "metadata": {
    "collapsed": true
   },
   "outputs": [],
   "source": [
    "## function to calculate the posterior probability\n",
    "def p_hyp1(dataset, a):\n",
    "    # extract the number of features and the total number of data\n",
    "    #print(dataset)\n",
    "    if (len(dataset.shape) == 1):\n",
    "        N = 1\n",
    "        k = dataset.shape[0]\n",
    "        #print(k)\n",
    "        # part I\n",
    "        p1 = 1\n",
    "        comp = special.gamma(np.sum(dataset)+1) / np.prod(special.gamma(dataset+1))\n",
    "        p1 = p1 * comp\n",
    "        \n",
    "        # part II\n",
    "        # iterate to calculate the probability\n",
    "        p2 = p1 * special.gamma(np.sum(a)) / special.gamma(np.sum(dataset) + np.sum(a))\n",
    "        for j in range(k):\n",
    "            #print(j)\n",
    "            comp = special.gamma(a[j] + np.sum(dataset[j])) / special.gamma(a[j])\n",
    "            p2 = p2 * comp\n",
    "    else:\n",
    "        N = dataset.shape[0]\n",
    "        k = dataset.shape[1]\n",
    "        #print(k)\n",
    "    \n",
    "        # part I\n",
    "        p1 = 1\n",
    "        for i in range(N):\n",
    "            comp = special.gamma(np.sum(dataset[i, :])+1) / np.prod(special.gamma(dataset[i, :]+1))\n",
    "            p1 = p1 * comp\n",
    "        \n",
    "        # part II\n",
    "        # iterate to calculate the probability\n",
    "        p2 = p1 * special.gamma(np.sum(a)) / special.gamma(np.sum(dataset) + np.sum(a))\n",
    "        for j in range(k):\n",
    "            #print(j)\n",
    "            comp = special.gamma(a[j] + np.sum(dataset[:, j])) / special.gamma(a[j])\n",
    "            p2 = p2 * comp\n",
    "\n",
    "    return p2"
   ]
  },
  {
   "cell_type": "code",
   "execution_count": 4,
   "metadata": {
    "collapsed": true
   },
   "outputs": [],
   "source": [
    "## function to calculate the d\n",
    "def get_d(node, a):\n",
    "    if node.l == None and node.r == None:\n",
    "        return a\n",
    "    else:\n",
    "        return a*special.gamma(node.n) + get_d(node.l, a)*get_d(node.r, a)"
   ]
  },
  {
   "cell_type": "code",
   "execution_count": 5,
   "metadata": {
    "collapsed": true
   },
   "outputs": [],
   "source": [
    "## function to calculate the weight or pi\n",
    "def get_pi(node, a):\n",
    "    dk = get_d(node, a)\n",
    "    pi_k = a*special.gamma(node.n)/dk\n",
    "    return pi_k"
   ]
  },
  {
   "cell_type": "code",
   "execution_count": 232,
   "metadata": {
    "collapsed": false
   },
   "outputs": [
    {
     "data": {
      "text/plain": [
       "array([[3, 3, 2, 0, 3],\n",
       "       [3, 3, 1, 0, 1],\n",
       "       [0, 1, 1, 0, 3],\n",
       "       [1, 0, 2, 0, 3],\n",
       "       [1, 2, 0, 2, 3]])"
      ]
     },
     "execution_count": 232,
     "metadata": {},
     "output_type": "execute_result"
    }
   ],
   "source": [
    "## test dataset\n",
    "data = np.random.randint(0,4, size=(5,5))\n",
    "a = [1,1,1,1,1]\n",
    "data"
   ]
  },
  {
   "cell_type": "code",
   "execution_count": 7,
   "metadata": {
    "collapsed": true
   },
   "outputs": [],
   "source": [
    "# get dk\n",
    "def get_dk(node, a):\n",
    "    post = p_hyp1(node_new.data, np.repeat(a, data.shape[1]))\n",
    "    pi = get_pi(node, a)\n",
    "    if node.l == None and node.r == None:\n",
    "        return  pi * post\n",
    "    else:\n",
    "        return  pi * post + (1-pi) * get_dk(node.l, a) * get_dk(node.r, a)"
   ]
  },
  {
   "cell_type": "code",
   "execution_count": 211,
   "metadata": {
    "collapsed": false
   },
   "outputs": [
    {
     "data": {
      "text/plain": [
       "array([[ 7,  1,  0, ...,  1,  9,  5],\n",
       "       [ 8,  1,  0, ...,  1, 10,  5],\n",
       "       [ 8,  1,  0, ...,  1, 10,  5],\n",
       "       ..., \n",
       "       [ 6,  1,  0, ...,  1, 11,  6],\n",
       "       [ 6,  1,  0, ...,  1, 10,  5],\n",
       "       [ 6,  0,  0, ...,  1, 11,  6]])"
      ]
     },
     "execution_count": 211,
     "metadata": {},
     "output_type": "execute_result"
    }
   ],
   "source": [
    "with open(\"wine.csv\") as f:\n",
    "    next(f)\n",
    "    text = f.read() \n",
    "\n",
    "data = []\n",
    "lines  = text.split('\\n')\n",
    "for line in lines[:-1]:\n",
    "    arr = line.split(';')\n",
    "    fl = [int(np.round(float(x))) for x in arr]\n",
    "    data.append(fl)\n",
    "\n",
    "data = np.array(data)\n",
    "data"
   ]
  },
  {
   "cell_type": "code",
   "execution_count": 212,
   "metadata": {
    "collapsed": true
   },
   "outputs": [],
   "source": [
    "data = data[:50,:]"
   ]
  },
  {
   "cell_type": "code",
   "execution_count": 292,
   "metadata": {
    "collapsed": false
   },
   "outputs": [],
   "source": [
    "def bhc(data, a=1, r_thres=0.5):\n",
    "    node_list = []\n",
    "    node_list_copy = []\n",
    "    for i in range(data.shape[0]):\n",
    "        node_list.append(node(None, None, np.array([data[i,:]]), i))\n",
    "        node_list_copy.append(node(None, None, np.array([data[i,:]]), i))\n",
    "    #print(node_list)\n",
    "    \n",
    "    c = data.shape[0]\n",
    "    \n",
    "    while c > 1:\n",
    "        flag = False\n",
    "        for i in range(len(node_list)):\n",
    "            for j in range(i+1, len(node_list)):\n",
    "                print(\"first node:\", node_list[i].data)\n",
    "                print(\"second node:\", node_list[j].data)\n",
    "                if len(node_list[i].data.shape) == 1 and len(node_list[j].data.shape) == 1:\n",
    "                    newdata = np.array([node_list[i].data, node_list[i].data])\n",
    "                else:\n",
    "                    newdata = np.concatenate((node_list[i].data, node_list[j].data), axis = 0)\n",
    "               \n",
    "                node_new = node(node_list[i], node_list[j], newdata, min(node_list[i].cluster,node_list[j].cluster))\n",
    "                pi_k = get_pi(node_new, a)\n",
    "                print(pi_k)\n",
    "                p_hyp = p_hyp1(node_new.data, np.repeat(a, data.shape[1]))\n",
    "                print(p_hyp)\n",
    "                p_dk = get_dk(node_new, a)\n",
    "                print(p_dk)\n",
    "                rk = pi_k * p_hyp / p_dk\n",
    "                print(rk)\n",
    "                if rk >= r_thres:\n",
    "                    for k in range(len(node_list_copy)):\n",
    "                        entry = node_list_copy[k].cluster\n",
    "                        if entry == node_list[i].cluster or entry == node_list[j].cluster:\n",
    "                            node_list_copy[k].cluster = min(node_list[i].cluster,node_list[j].cluster)\n",
    "                    node_list = [node_new] + node_list[:i] + node_list[(i+1):j] + node_list[(j+1):]\n",
    "                    #print([node.cluster for node in node_list])\n",
    "                    c = c - 1\n",
    "                    flag = True\n",
    "                    break\n",
    "            if(flag == True):\n",
    "                break\n",
    "        if(flag == False):\n",
    "            c = 1\n",
    "        \n",
    "        return node_list, node_list_copy\n",
    "    "
   ]
  },
  {
   "cell_type": "code",
   "execution_count": 284,
   "metadata": {
    "collapsed": false,
    "scrolled": true
   },
   "outputs": [
    {
     "data": {
      "text/plain": [
       "array([[3, 3, 2, 0, 3],\n",
       "       [3, 3, 1, 0, 1],\n",
       "       [0, 1, 1, 0, 3],\n",
       "       [1, 0, 2, 0, 3],\n",
       "       [1, 2, 0, 2, 3]])"
      ]
     },
     "execution_count": 284,
     "metadata": {},
     "output_type": "execute_result"
    }
   ],
   "source": [
    "data"
   ]
  },
  {
   "cell_type": "code",
   "execution_count": 293,
   "metadata": {
    "collapsed": false,
    "scrolled": true
   },
   "outputs": [
    {
     "name": "stdout",
     "output_type": "stream",
     "text": [
      "first node: [[3 3 2 0 3]]\n",
      "second node: [[3 3 1 0 1]]\n",
      "0.5\n",
      "7.1719011011e-06\n",
      "2.3378137963e-13\n",
      "15338905.7598\n"
     ]
    }
   ],
   "source": [
    "node_list, node_list_cluster = bhc(data, a=1, r_thres=0)"
   ]
  },
  {
   "cell_type": "code",
   "execution_count": 294,
   "metadata": {
    "collapsed": false
   },
   "outputs": [
    {
     "data": {
      "text/plain": [
       "[0, 0, 2, 3, 4]"
      ]
     },
     "execution_count": 294,
     "metadata": {},
     "output_type": "execute_result"
    }
   ],
   "source": [
    "[node.cluster for node in node_list_cluster]"
   ]
  },
  {
   "cell_type": "code",
   "execution_count": 295,
   "metadata": {
    "collapsed": false
   },
   "outputs": [
    {
     "data": {
      "text/plain": [
       "[array([[3, 3, 2, 0, 3],\n",
       "        [3, 3, 1, 0, 1]]),\n",
       " array([[0, 1, 1, 0, 3]]),\n",
       " array([[1, 0, 2, 0, 3]]),\n",
       " array([[1, 2, 0, 2, 3]])]"
      ]
     },
     "execution_count": 295,
     "metadata": {},
     "output_type": "execute_result"
    }
   ],
   "source": [
    "[node.data for node in node_list]"
   ]
  },
  {
   "cell_type": "code",
   "execution_count": 263,
   "metadata": {
    "collapsed": false,
    "scrolled": true
   },
   "outputs": [
    {
     "name": "stdout",
     "output_type": "stream",
     "text": [
      "[0, 2, 3, 4]\n"
     ]
    }
   ],
   "source": [
    "print([node.cluster for node in node_list])"
   ]
  },
  {
   "cell_type": "code",
   "execution_count": 254,
   "metadata": {
    "collapsed": false
   },
   "outputs": [
    {
     "ename": "SyntaxError",
     "evalue": "invalid syntax (<ipython-input-254-20758ba5dbc7>, line 3)",
     "output_type": "error",
     "traceback": [
      "\u001b[0;36m  File \u001b[0;32m\"<ipython-input-254-20758ba5dbc7>\"\u001b[0;36m, line \u001b[0;32m3\u001b[0m\n\u001b[0;31m    a = 1\u001b[0m\n\u001b[0m    ^\u001b[0m\n\u001b[0;31mSyntaxError\u001b[0m\u001b[0;31m:\u001b[0m invalid syntax\n"
     ]
    }
   ],
   "source": [
    "@jit(float64[:](float64[:,:], float64[:], float64[:], float64, int64), nopython=True)\n",
    "\n",
    "a = 1\n",
    "r_thres = 0\n",
    "node_list = []\n",
    "node_list_copy = []\n",
    "for i in range(data.shape[0]):\n",
    "    node_list.append(node(None, None, np.array([data[i,:]]), i))\n",
    "    node_list_copy.append(node(None, None, np.array([data[i,:]]), i))\n",
    "    \n",
    "c = data.shape[0]\n",
    "    \n",
    "while c > 1:\n",
    "    flag = False\n",
    "    for i in range(len(node_list)):\n",
    "        for j in range(i+1, len(node_list)):\n",
    "            #print(node_list[i].data)\n",
    "            #print(node_list[j].data)\n",
    "            if len(node_list[i].data.shape) == 1 and len(node_list[j].data.shape) == 1:\n",
    "                newdata = np.array([node_list[i].data, node_list[i].data])\n",
    "            else:\n",
    "                newdata = np.concatenate((node_list[i].data, node_list[j].data), axis = 0)\n",
    "            #print(newdata)\n",
    "            node_new = node(node_list[i], node_list[j], newdata, min(node_list[i].cluster,node_list[j].cluster))\n",
    "            pi_k = get_pi(node_new, a)\n",
    "            #print(pi_k)\n",
    "            p_hyp = p_hyp1(node_new.data, np.repeat(a, data.shape[1]))\n",
    "            #print(p_hyp)\n",
    "            p_dk = get_dk(node_new, a)\n",
    "            rk = pi_k * p_hyp / p_dk\n",
    "            #print(rk)\n",
    "            if rk >= r_thres:\n",
    "                for k in range(len(node_list_copy)):\n",
    "                    entry = node_list_copy[k].cluster\n",
    "                    if entry == node_list[i].cluster or entry == node_list[j].cluster:\n",
    "                        node_list_copy[k].cluster = min(node_list[i].cluster,node_list[j].cluster)\n",
    "                node_list = [node_new] + node_list[:i] + node_list[(i+1):j] + node_list[(j+1):]\n",
    "                #print([node.cluster for node in node_list])\n",
    "                c = c - 1\n",
    "                flag = True\n",
    "                break\n",
    "        if(flag == True):\n",
    "            break\n",
    "    if(flag == False):\n",
    "        c = 1\n",
    "        "
   ]
  },
  {
   "cell_type": "code",
   "execution_count": 227,
   "metadata": {
    "collapsed": false
   },
   "outputs": [
    {
     "data": {
      "text/plain": [
       "34"
      ]
     },
     "execution_count": 227,
     "metadata": {},
     "output_type": "execute_result"
    }
   ],
   "source": [
    "len(node_list)"
   ]
  },
  {
   "cell_type": "code",
   "execution_count": 196,
   "metadata": {
    "collapsed": false
   },
   "outputs": [
    {
     "data": {
      "text/plain": [
       "34"
      ]
     },
     "execution_count": 196,
     "metadata": {},
     "output_type": "execute_result"
    }
   ],
   "source": [
    "len(np.unique([node.cluster for node in node_list]))"
   ]
  },
  {
   "cell_type": "code",
   "execution_count": 197,
   "metadata": {
    "collapsed": false
   },
   "outputs": [
    {
     "data": {
      "text/plain": [
       "34"
      ]
     },
     "execution_count": 197,
     "metadata": {},
     "output_type": "execute_result"
    }
   ],
   "source": [
    "len(np.unique([node.cluster for node in node_list_copy]))"
   ]
  },
  {
   "cell_type": "code",
   "execution_count": 198,
   "metadata": {
    "collapsed": false
   },
   "outputs": [
    {
     "data": {
      "text/plain": [
       "[0,\n",
       " 1,\n",
       " 2,\n",
       " 3,\n",
       " 0,\n",
       " 5,\n",
       " 6,\n",
       " 5,\n",
       " 8,\n",
       " 9,\n",
       " 10,\n",
       " 11,\n",
       " 12,\n",
       " 8,\n",
       " 14,\n",
       " 15,\n",
       " 16,\n",
       " 17,\n",
       " 18,\n",
       " 19,\n",
       " 20,\n",
       " 21,\n",
       " 18,\n",
       " 23,\n",
       " 24,\n",
       " 24,\n",
       " 2,\n",
       " 27,\n",
       " 27,\n",
       " 6,\n",
       " 30,\n",
       " 31,\n",
       " 32,\n",
       " 33,\n",
       " 34,\n",
       " 31,\n",
       " 12,\n",
       " 37,\n",
       " 17,\n",
       " 39,\n",
       " 40,\n",
       " 41,\n",
       " 19,\n",
       " 34,\n",
       " 3,\n",
       " 45,\n",
       " 46,\n",
       " 37,\n",
       " 10,\n",
       " 49]"
      ]
     },
     "execution_count": 198,
     "metadata": {},
     "output_type": "execute_result"
    }
   ],
   "source": [
    "[node.cluster for node in node_list_copy]"
   ]
  },
  {
   "cell_type": "code",
   "execution_count": null,
   "metadata": {
    "collapsed": true
   },
   "outputs": [],
   "source": []
  }
 ],
 "metadata": {
  "anaconda-cloud": {},
  "kernelspec": {
   "display_name": "Python [conda root]",
   "language": "python",
   "name": "conda-root-py"
  },
  "language_info": {
   "codemirror_mode": {
    "name": "ipython",
    "version": 3
   },
   "file_extension": ".py",
   "mimetype": "text/x-python",
   "name": "python",
   "nbconvert_exporter": "python",
   "pygments_lexer": "ipython3",
   "version": "3.5.2"
  }
 },
 "nbformat": 4,
 "nbformat_minor": 1
}
