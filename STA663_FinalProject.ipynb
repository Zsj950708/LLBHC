{
 "cells": [
  {
   "cell_type": "markdown",
   "metadata": {},
   "source": [
    "# Bayesian Hierarchical Clustering in Python\n",
    "### STA 663 Final Project\n",
    "*Shaoji Li & Xichu Liu*\n",
    "\n",
    "Github Repo: https://github.com/lishaoji/LLBHC"
   ]
  },
  {
   "cell_type": "markdown",
   "metadata": {},
   "source": [
    "## Abstract\n",
    "In this project, we tend to implement the Bayesian Hierarchical Clustering algorithm, presented by Dr. Katherine Heller and Dr. Zoubin Ghahramani back in 2005. The algorithm, similar to any agglomerative clustering with distance metrics, is a one-pass, bottom-up method initializing each point in its own cluster and then iteratively merges pairs of cluster by measuring the marginal likelihood and determining whether to proceed. In Python, we first break down the algorithm into multiple parts, then implement each part individually, and eventually resemble the whole process. Using both synthetic and real-world data, we test our implementation's correctness and efficiency, where optimization methods are applied. The goal is to efficiently implement the algorithm in its original setting, where Dirichet Process is its generative model and the dataset follows a multinomial distribution. At the end, we discuss the applications of our implementation, as well as the Bayesian Hierarchical Clustering algorithm in general."
   ]
  },
  {
   "cell_type": "markdown",
   "metadata": {},
   "source": [
    "## Introduction\n",
    "Hierarchical Clustering is a popular clustering method in unsupervised learning. It aims to separate data points with different features into single or multiple groups, and its result should be intuitive and understandable to human knowledge. The traditional method for hierarchical clustering is a bottom-up agglomerative algorithm, where it starts with each data point as its own cluster and iteratively merges the two closet clusters together until all the data belongs to a single cluster. A certain kind of distance metric determines which pair of clusters should be combined, and popular distance metrics include average linkage, single linkage, etc. For instance, average linkage is equivalent to merging the clusters by calculating the average Euclidean distance among all points and then seeking the ones with maximum values. \n",
    "\n",
    "However, there are some limitation to the traditional hierarchical clustering algorithm. First, the algorithm requires a manual input of cutoff point to stop the merging process. In other words, whoever uses the program has to choose how many clusters she or he wants, and once the specified threshold is reached, the algorithm stops. This characteristic causes a serious problem when the user has no prior knowledge of the dataset, and even if she or he does, it is still very difficult to come up with a right and accurate distance metric which aligns with the dataset, especially in structured data, such as image. Second, as the algorithm lacks of a probabilist model, the user can not perform any statistical inference or prediction based on the clustering results, while choosing a way to measure the goodness of the clustering becomes impossible. \n",
    "\n",
    "Bayesian Hierarchical Clustering algorithm is very similar to the traditional one in many ways, such as bottom-up and hierarchical with tree structure, but it uses marginal likelihood, instead of distance metric, to decide which clusters to merge. More specifically, the algorithm seeks the probability that all the data in a potential merge comes from the same mixture component, and compares to the hypotheses at lower levels of the tree. Dirichelet process mixture model serves as the generative model here, while the data should follow a discreet multinomial distribution. Besides, instead of calculating all the marginal likelihood for all tree partitions, the algorithm only calculate the tree-consistent ones, which reduces the computational burden in the Bayesian setting. Overall, the Bayesian Hierarchical Clustering has three major advantages: first, it provides a probabilistic model for merging, which can be used in explaining the clusters; second, it does not require a rigid choice of distance metric, which can be hard to choose; and, it is relatively computationally efficient, as the algorithm performs only in a tree-consistent structure."
   ]
  },
  {
   "cell_type": "markdown",
   "metadata": {},
   "source": [
    "## Theoretical Background\n",
    "\n",
    "#### Dirichlet Process Mixtures\n",
    "This sections follows Rasmussen(2000). For each of n data points being modeled by a finite mixture, we can associate cluster indicator variables, $c_1, c_2,... , c_n$, which can take on values $c_i \\in \\{1, ..., C\\}$, where $C$ is the number of mixture components. The joint distribution of the indicator is multinomial with parameter vector $\\textbf{p} = (p_1...p_C)$:\n",
    "$$\n",
    "p(c_1...c_n) = \\prod_{j=1}^C p_j^{n_j}, \\ \\ \\ n_j = \\sum_{i=1}^n \\delta(c_i,j)\n",
    "$$\n",
    "\n",
    "$n_j$ is the number of data points assigned to class j. If we place a symmetric Dirichlet prior on \\textbf{p} with concentration parameters $\\frac{\\alpha}{C}$:\n",
    "$$\n",
    "p(p_1...p_C \\mid \\alpha) = \\frac{\\Gamma(\\alpha)}{\\Gamma(\\alpha/C)^C} \\prod_{j=1}^C p_j^{\\alpha/C-1}\n",
    "$$\n",
    "\n",
    "by marginalizing \\textbf{p} out, we get:\n",
    "\n",
    "\\begin{align*}\n",
    "p(c_1...c_n \\mid \\alpha) &= \\int p(c_1...c_n \\mid p_1...p_C)dp_1...p_C \\\\\n",
    "\t\t\t\t\t\t &= \\frac{\\Gamma(\\alpha)}{\\Gamma(n+\\alpha)} \\prod_{j=1}^C \\frac{\\Gamma(n_j+\\alpha/C}{\\Gamma(\\alpha/C)}\n",
    "\\end{align*}\n",
    "\n",
    "Then the conditional probability of each $c_i$ is:\n",
    "$$\n",
    "p(c_i = j \\mid \\textbf{c}_{-i},\\alpha) = \\frac{n_{-i,j}+\\alpha/C}{n-1+\\alpha}\n",
    "$$\n",
    "\n",
    "where $n_{-i,j}$ is the number of data points, excluding point i, assigned to class j. Finally, taking the infinite limit ($C$ -> $\\inf$), we get:\n",
    "$$\n",
    "p(c_i = j \\mid \\textbf{c}_{-i},\\alpha) = \\frac{n_{-i,j}}{n-1+\\alpha}, \n",
    "$$\n",
    "$$\n",
    "p(c_i \\neq c_{i'}, \\forall i' \\neq i \\mid \\textbf{c}_{-i},\\alpha) = \\frac{\\alpha}{n-1+\\alpha}\n",
    "$$\n",
    "\n",
    "The second probability is the prior probability that point i belongs to a new class that no other points belong to.\n",
    "\n",
    "#### Marginal Likelihood for Single Component\n",
    "\n",
    "Within this implementation, the prior follows Dirichlet, while dataset follows multinomial.\n",
    "\n",
    "If we have multinomial data, we then need a Dirichlet model. The posterior probability is shown below:\n",
    "\n",
    "$$\n",
    "p(D \\mid H_1) = \\prod_{i=1}^N \\binom {M_i}{x_1^{(i)}...x_k^{(i)}}  \\times \\frac{\\Gamma(\\sum_{d=1}^k \\alpha_d) \\prod_{d=1}^k \\Gamma(\\alpha_d+m_d)}{\\Gamma(M+\\sum_{d=1}^k \\alpha_d) \\prod_{d=1}^k \\Gamma(\\alpha_d)}\n",
    "$$\n",
    "\n",
    "where $k$ is the total number of dimensions (columns), $N$ is the number of data points in the dataset, $M = \\sum_{i=1}^N M_i$, $M_i = \\sum_{j=1}^k x_j^{(i)}$, $m_d = \\sum_{i=1}^N x_d^{(i)}$, $\\textbf{$X$}$ is the dataset, and \\textbf{$\\alpha$} is a hyperparameter for the Dirichlet prior."
   ]
  },
  {
   "cell_type": "markdown",
   "metadata": {},
   "source": [
    "## Algorithm Introduction\n",
    "The Bayesian Hierarchical clustering algorithm is similar to traditional agglomerative clustering in a way that it is one-pass, bottom-up method which initializes each data point in its own cluster and then iteratively merges pairs of clusters. The main difference is that, different from traditional clustering with distance metrics, Bayesian Hierarchical clustering uses statistical hypothesis test for the process. \n",
    "\n",
    "In each merge, two hypotheses are performed: whether all the data in the potential merge were generated independently and identically from the same probabilistic model and whether the data has two or more clusters in it. For the first test, we calculate its probability by applying Dirichlet prior to the multinomial distributed dataset, whose posterior formula is elaborated in the previous section. For the second test, as we only consider the partitions which are tree consistent, its probability is simply the product of the probabilities of its children nodes. By combining the probabilities of both tests, weighted by the prior that all points belong to one cluster, we obtain the marginal probability of the data. Eventually using Bayes rule, we can achieve the posterior probability of the merged hypothesis. If the value is above a certain amount which is usually 0.5 but can also be specified if necessary, then the two clusters should be merged into one; otherwise, we proceed to check other clusters. In next iteration, any previously merged clusters are treated as one cluster. In two cases, we stop the process: either within an iteration we fail to find any pair of clusters which should be merged, or all the data points are grouped into only one cluster."
   ]
  },
  {
   "cell_type": "markdown",
   "metadata": {},
   "source": [
    "## Algorithm Implementation\n",
    "In order to accommodate the tree structure in the algorithm, we construct an object, called \"node\", to facilitate our objectives. Each node has two children nodes, both of which can be none if the node is an end node. The node also contains its associated datasets and the index number of cluster. Besides, the node keeps track of the number of all nodes, both internal and end, at all levels, where we use recursion to achieve this goal. Basically, this node object is the key component of the implementation and will be used enormous times throughout the program. \n",
    "\n",
    "To complete the implementation, we break it down into multiple parts, each of which contains only one key component as a function, and at the end, we integrate all individual functions into the general Bayesian Hierarchical Clustering function, called \"bhc\", which is the destination function with one requited parameter--dataset--and two non-essential parameters--alpha with default value 1 and probability threshold with default 0.5--as input. The output contains two node lists: the first one returns all unique resulting clusters, while the second gives the index number of cluster for all original data points.\n",
    "\n",
    "The detailed implementations can be seen below."
   ]
  },
  {
   "cell_type": "code",
   "execution_count": 1,
   "metadata": {
    "collapsed": true
   },
   "outputs": [],
   "source": [
    "%matplotlib inline"
   ]
  },
  {
   "cell_type": "code",
   "execution_count": 2,
   "metadata": {
    "collapsed": true
   },
   "outputs": [],
   "source": [
    "# require necessary packages\n",
    "from scipy import special\n",
    "import numpy as np\n",
    "import matplotlib.pyplot as plt\n",
    "from numba import jit, vectorize, float64, int64\n",
    "import seaborn as sns\n",
    "import pandas as pd"
   ]
  },
  {
   "cell_type": "code",
   "execution_count": 3,
   "metadata": {
    "collapsed": true
   },
   "outputs": [],
   "source": [
    "sns.set_context('notebook', font_scale=1.5)"
   ]
  },
  {
   "cell_type": "code",
   "execution_count": 4,
   "metadata": {
    "collapsed": true
   },
   "outputs": [],
   "source": [
    "class node():\n",
    "    \"\"\"\n",
    "    The class for node.\n",
    "    Initialization requires two child branches, which may be None for end node, \n",
    "    the data points, and the index number of cluter.\n",
    "    When initialized, the node also keeps track of the number of total nodes,\n",
    "    both internal and end, within its structure as n.\n",
    "    \n",
    "    For example:\n",
    "    new_node = node(None, None, np.repeat(1,4), 1)\n",
    "    \"\"\"\n",
    "    \n",
    "    # initialization \n",
    "    def __init__(self, left, right, data, cnum):\n",
    "        # set up the left and right branches\n",
    "        self.l = left\n",
    "        self.r = right\n",
    "        \n",
    "        # track of number of total nodes using recursion\n",
    "        if(left == None and right == None):\n",
    "            self.n = 1\n",
    "        else:\n",
    "            self.n = left.n + right.n\n",
    "            \n",
    "        # save data points and number of cluster\n",
    "        self.data = data\n",
    "        self.cluster = cnum"
   ]
  },
  {
   "cell_type": "code",
   "execution_count": 5,
   "metadata": {
    "collapsed": false
   },
   "outputs": [],
   "source": [
    "@jit(float64(float64[:,:], int64[:]))\n",
    "\n",
    "def p_hyp1(dataset, a):\n",
    "    \"\"\"\n",
    "    Function to calculate the posterior probability.\n",
    "    The input requires data, which is either a vector\n",
    "    or a 2D numpy array, and an alpha value, which is\n",
    "    a double\n",
    "    \"\"\"\n",
    "    \n",
    "    # extract the number of features and the total number of data\n",
    "    \n",
    "    # If the data is a vector, do the following\n",
    "    if (len(dataset.shape) == 1):\n",
    "        N = 1\n",
    "        k = dataset.shape[0]\n",
    "        # part I\n",
    "        p1 = 1\n",
    "        comp = special.gamma(np.sum(dataset)+1) / np.prod(special.gamma(dataset+1))\n",
    "        p1 = p1 * comp\n",
    "        \n",
    "        # part II\n",
    "        # iterate to calculate the probability\n",
    "        p2 = p1 * special.gamma(np.sum(a)) / special.gamma(np.sum(dataset) + np.sum(a))\n",
    "        for j in range(k):\n",
    "            comp = special.gamma(a[j] + np.sum(dataset[j])) / special.gamma(a[j])\n",
    "            p2 = p2 * comp\n",
    "    # if the data is not vector, do the following\n",
    "    else:\n",
    "        N = dataset.shape[0]\n",
    "        k = dataset.shape[1]\n",
    "    \n",
    "        # part I\n",
    "        p1 = 1\n",
    "        for i in range(N):\n",
    "            comp = special.gamma(np.sum(dataset[i, :])+1) / np.prod(special.gamma(dataset[i, :]+1))\n",
    "            p1 = p1 * comp\n",
    "        \n",
    "        # part II\n",
    "        # iterate to calculate the probability\n",
    "        p2 = p1 * special.gamma(np.sum(a)) / special.gamma(np.sum(dataset) + np.sum(a))\n",
    "        for j in range(k):\n",
    "            comp = special.gamma(a[j] + np.sum(dataset[:, j])) / special.gamma(a[j])\n",
    "            p2 = p2 * comp\n",
    "\n",
    "    return p2"
   ]
  },
  {
   "cell_type": "code",
   "execution_count": 6,
   "metadata": {
    "collapsed": true
   },
   "outputs": [],
   "source": [
    "def get_d(node, a):\n",
    "    \"\"\"\n",
    "    Recursive function to calculate the 'd' value for each node\n",
    "    \n",
    "    \"\"\"\n",
    "    if node.l == None and node.r == None:\n",
    "        return a\n",
    "    else:\n",
    "        return a*special.gamma(node.n) + get_d(node.l, a)*get_d(node.r, a)"
   ]
  },
  {
   "cell_type": "code",
   "execution_count": 7,
   "metadata": {
    "collapsed": true
   },
   "outputs": [],
   "source": [
    "def get_pi(node, a):\n",
    "    \"\"\"\n",
    "    The function to calculate the weight for each node (pi_k).\n",
    "    It uses d and the gamma function.\n",
    "    The inputs are a node object and a double\n",
    "    \"\"\"\n",
    "    dk = get_d(node, a)\n",
    "    pi_k = a*special.gamma(node.n)/dk\n",
    "    return pi_k"
   ]
  },
  {
   "cell_type": "code",
   "execution_count": 8,
   "metadata": {
    "collapsed": true
   },
   "outputs": [],
   "source": [
    "def get_dk(node, a):\n",
    "    \"\"\"\n",
    "    The Recursive function to calculate the posterior probability for\n",
    "    each node given a subtree (Ti).\n",
    "    The inputs are a node and a double\n",
    "    \"\"\"\n",
    "    post = p_hyp1(node.data, np.repeat(a, node.data.shape[1]))\n",
    "    pi = get_pi(node, a)\n",
    "    if node.l == None and node.r == None:\n",
    "        return  pi * post\n",
    "    else:\n",
    "        return  pi * post + (1-pi) * get_dk(node.l, a) * get_dk(node.r, a)"
   ]
  },
  {
   "cell_type": "code",
   "execution_count": 9,
   "metadata": {
    "collapsed": true
   },
   "outputs": [],
   "source": [
    "def bhc(data, a=1, r_thres=0.5):\n",
    "    \"\"\"\n",
    "    The Baysian Hierarchical Clustering algorithm.\n",
    "    It is described in the paper collaborated by\n",
    "    Dr. Katherine Heller and Dr. Zoubin Ghahramani\n",
    "    in 2005.\n",
    "    \"\"\"\n",
    "    \n",
    "    # Initialize a node_list tracking the nodes to be merged\n",
    "    # and a node_list_copy to track the cluster number of each\n",
    "    # node. The initial value of those two lists are each data\n",
    "    # points with its own cluster number.\n",
    "    node_list = []\n",
    "    node_list_copy = []\n",
    "    for i in range(data.shape[0]):\n",
    "        node_list.append(node(None, None, np.array([data[i,:]]), i))\n",
    "        node_list_copy.append(node(None, None, np.array([data[i,:]]), i))\n",
    "    \n",
    "    # Cluster number, default value equals the number of data points\n",
    "    c = data.shape[0]\n",
    "    \n",
    "    # Iterate to merge nodes. Note that BHC is a greedy algorithm, which means\n",
    "    # If no tow nodes can be merged, the loop stops automatically\n",
    "    while c > 1:\n",
    "        # Indicate whether to break the while loop\n",
    "        flag = False\n",
    "        \n",
    "        for i in range(len(node_list)):\n",
    "            for j in range(i+1, len(node_list)):\n",
    "                # Create a new data by row-binding the datasets in the two nodes\n",
    "                newdata = np.concatenate((node_list[i].data, node_list[j].data), axis = 0)\n",
    "                \n",
    "                # Create a new node based on the new data\n",
    "                # Set the cluster number of the new node to\n",
    "                # the minimum of the two nodes combined\n",
    "                node_new = node(node_list[i], node_list[j], newdata, \n",
    "                                min(node_list[i].cluster,node_list[j].cluster))\n",
    "                \n",
    "                # Calculate the probability of the hypothesis being true\n",
    "                pi_k = get_pi(node_new, a)\n",
    "                \n",
    "                # Calculate the posterior probability of data given hypothesis\n",
    "                p_hyp = p_hyp1(node_new.data, np.repeat(a, data.shape[1]))\n",
    "                \n",
    "                # Calculate the posterior probability of data given subtree\n",
    "                p_dk = get_dk(node_new, a)\n",
    "                \n",
    "                # Calculate the probability of the merged hypothesis\n",
    "                rk = pi_k * p_hyp / p_dk\n",
    "                \n",
    "                # If the probability of the merged hypothesis is greater\n",
    "                # than the threshold we set, merge the two nodes, reset\n",
    "                # their cluster number in node_list_copy and remove the\n",
    "                # two nodes from nodes_list.\n",
    "                \n",
    "                # Note that since it's a greedy algorithm, we break the\n",
    "                # double for loop if the nodes are merged and continue\n",
    "                # on finding the next two nodes to merge.\n",
    "                if rk >= r_thres:\n",
    "                    for k in range(len(node_list_copy)):\n",
    "                        entry = node_list_copy[k].cluster\n",
    "                        if entry == node_list[i].cluster or entry == node_list[j].cluster:\n",
    "                            node_list_copy[k].cluster = min(node_list[i].cluster,node_list[j].cluster)\n",
    "                    node_list =  node_list[:i] + node_list[(i+1):j] + node_list[(j+1):]\n",
    "                    node_list = [node_new] + node_list\n",
    "                    \n",
    "                    c = c - 1\n",
    "                    flag = True\n",
    "                    break\n",
    "            if flag == True:\n",
    "                break\n",
    "        \n",
    "        if flag == False:\n",
    "            c = 1        \n",
    "\n",
    "    return node_list, node_list_copy"
   ]
  },
  {
   "cell_type": "markdown",
   "metadata": {},
   "source": [
    "## Algorithm Testing\n",
    "We use both simulated data and real data to test our algorithm.\n",
    "### 1. Synthetic Data\n",
    "**Data Generation**"
   ]
  },
  {
   "cell_type": "code",
   "execution_count": 10,
   "metadata": {
    "collapsed": false,
    "scrolled": true
   },
   "outputs": [
    {
     "data": {
      "text/plain": [
       "array([[ 1,  0],\n",
       "       [ 0,  1],\n",
       "       [ 0,  1],\n",
       "       [ 0,  1],\n",
       "       [ 1,  0],\n",
       "       [ 0,  1],\n",
       "       [ 1,  1],\n",
       "       [10,  9],\n",
       "       [ 9,  9],\n",
       "       [ 9, 10],\n",
       "       [10,  9],\n",
       "       [10, 10],\n",
       "       [ 9,  9],\n",
       "       [10,  9],\n",
       "       [19, 18],\n",
       "       [19, 18],\n",
       "       [18, 19],\n",
       "       [18, 19],\n",
       "       [19, 19],\n",
       "       [18, 19],\n",
       "       [18, 19]])"
      ]
     },
     "execution_count": 10,
     "metadata": {},
     "output_type": "execute_result"
    }
   ],
   "source": [
    "## simulated test data\n",
    "d1 = np.random.randint(0,2, size=(7,2))\n",
    "d2 = np.random.randint(9,11, size=(7,2))\n",
    "d3 = np.random.randint(18,20, size=(7,2))\n",
    "sdata = np.concatenate((d1,d2,d3),axis=0)\n",
    "sdata"
   ]
  },
  {
   "cell_type": "markdown",
   "metadata": {},
   "source": [
    "**Test Result**"
   ]
  },
  {
   "cell_type": "markdown",
   "metadata": {},
   "source": [
    "*Threshold = 0, $\\alpha$ = 2*"
   ]
  },
  {
   "cell_type": "code",
   "execution_count": 11,
   "metadata": {
    "collapsed": false
   },
   "outputs": [
    {
     "name": "stderr",
     "output_type": "stream",
     "text": [
      "C:\\Users\\jason\\Anaconda3\\lib\\site-packages\\ipykernel\\__main__.py:43: RuntimeWarning: invalid value encountered in double_scalars\n",
      "C:\\Users\\jason\\Anaconda3\\lib\\site-packages\\ipykernel\\__main__.py:7: RuntimeWarning: invalid value encountered in double_scalars\n"
     ]
    }
   ],
   "source": [
    "# test when alpha = 2, r_thresh=0\n",
    "nodes_sim, nodes_cluster_sim = bhc(sdata, a=2, r_thres=0)"
   ]
  },
  {
   "cell_type": "code",
   "execution_count": 12,
   "metadata": {
    "collapsed": false
   },
   "outputs": [
    {
     "data": {
      "text/plain": [
       "<seaborn.axisgrid.FacetGrid at 0x24c1dda5b70>"
      ]
     },
     "execution_count": 12,
     "metadata": {},
     "output_type": "execute_result"
    },
    {
     "data": {
      "image/png": "[encoded data removed]",
      "text/plain": [
       "<matplotlib.figure.Figure at 0x24c1dda5c88>"
      ]
     },
     "metadata": {},
     "output_type": "display_data"
    }
   ],
   "source": [
    "# 0\n",
    "cl = np.array([node.cluster for node in nodes_cluster_sim])\n",
    "df = {'x' : sdata[:,0], 'y' : sdata[:,1], 'cl' : cl}\n",
    "df = pd.DataFrame(df)\n",
    "sns.lmplot('x', 'y',\n",
    "           data=df,\n",
    "           fit_reg = False,\n",
    "           hue='cl')"
   ]
  },
  {
   "cell_type": "markdown",
   "metadata": {},
   "source": [
    "*Threshold = 0.5, $\\alpha$ = 2*"
   ]
  },
  {
   "cell_type": "code",
   "execution_count": 13,
   "metadata": {
    "collapsed": true
   },
   "outputs": [],
   "source": [
    "nodes_sim, nodes_cluster_sim = bhc(sdata, a=2, r_thres=0.5)"
   ]
  },
  {
   "cell_type": "code",
   "execution_count": 14,
   "metadata": {
    "collapsed": false
   },
   "outputs": [
    {
     "data": {
      "text/plain": [
       "<seaborn.axisgrid.FacetGrid at 0x24c1e1cea20>"
      ]
     },
     "execution_count": 14,
     "metadata": {},
     "output_type": "execute_result"
    },
    {
     "data": {
      "image/png": "[encoded data removed]",
      "text/plain": [
       "<matplotlib.figure.Figure at 0x24c1e200f60>"
      ]
     },
     "metadata": {},
     "output_type": "display_data"
    }
   ],
   "source": [
    "# 0.5\n",
    "cl = np.array([node.cluster for node in nodes_cluster_sim])\n",
    "df = {'x' : sdata[:,0], 'y' : sdata[:,1], 'cl' : cl}\n",
    "df = pd.DataFrame(df)\n",
    "sns.lmplot('x', 'y',\n",
    "           data=df,\n",
    "           fit_reg = False,\n",
    "           hue='cl')"
   ]
  },
  {
   "cell_type": "markdown",
   "metadata": {},
   "source": [
    "*Threshold = 0.9, $\\alpha$ = 2*"
   ]
  },
  {
   "cell_type": "code",
   "execution_count": 15,
   "metadata": {
    "collapsed": true
   },
   "outputs": [],
   "source": [
    "nodes_sim, nodes_cluster_sim = bhc(sdata, a=2, r_thres=0.9)"
   ]
  },
  {
   "cell_type": "code",
   "execution_count": 16,
   "metadata": {
    "collapsed": false
   },
   "outputs": [
    {
     "data": {
      "text/plain": [
       "<seaborn.axisgrid.FacetGrid at 0x24c1dda5550>"
      ]
     },
     "execution_count": 16,
     "metadata": {},
     "output_type": "execute_result"
    },
    {
     "data": {
      "image/png": "[encoded data removed]",
      "text/plain": [
       "<matplotlib.figure.Figure at 0x24c1dda56a0>"
      ]
     },
     "metadata": {},
     "output_type": "display_data"
    }
   ],
   "source": [
    "# 0.9\n",
    "cl = np.array([node.cluster for node in nodes_cluster_sim])\n",
    "df = {'x' : sdata[:,0], 'y' : sdata[:,1], 'cl' : cl}\n",
    "df = pd.DataFrame(df)\n",
    "sns.lmplot('x', 'y',\n",
    "           data=df,\n",
    "           fit_reg = False,\n",
    "           hue='cl')"
   ]
  },
  {
   "cell_type": "markdown",
   "metadata": {},
   "source": [
    "**Discussion**\n",
    "\n",
    "The first graph is the cluster result when we set the threshold of $r_k$ to be 0.1, where we can see that almost all data points are combined into one cluster.The second graph shows when the threshold is 0.5, we have three distinct clusters, which is consistent with our simulation process. Note that unlike k-means or other clustering methods, Bayesian Hierarchical Clustering does not perfectly shatter the data. This is because we use Dirichlet process as a mixture. However, it still offers a reasonable representation for clustering.The third graph shows when the threshold is high (0.9 etc.), every data point belongs to its own cluster."
   ]
  },
  {
   "cell_type": "markdown",
   "metadata": {},
   "source": [
    "### 2. Real Data\n",
    "We use the wine quality data, \"wine-quality-red\" from UCI machine learning repository. To avoid complex computation, we only used a small amount of data (10 rows and 5 features) for testing."
   ]
  },
  {
   "cell_type": "markdown",
   "metadata": {},
   "source": [
    "**Data Generation**"
   ]
  },
  {
   "cell_type": "code",
   "execution_count": 17,
   "metadata": {
    "collapsed": false
   },
   "outputs": [],
   "source": [
    "with open(\"wine.csv\") as f:\n",
    "    next(f)\n",
    "    text = f.read() \n",
    "\n",
    "data = []\n",
    "lines  = text.split('\\n')\n",
    "for line in lines[:-1]:\n",
    "    arr = line.split(';')\n",
    "    fl = [int(np.round(float(x))) for x in arr]\n",
    "    data.append(fl)\n",
    "\n",
    "data = np.array(data)"
   ]
  },
  {
   "cell_type": "code",
   "execution_count": 18,
   "metadata": {
    "collapsed": false
   },
   "outputs": [
    {
     "data": {
      "text/plain": [
       "array([[ 7,  1,  0,  2,  0],\n",
       "       [ 8,  1,  0,  3,  0],\n",
       "       [ 8,  1,  0,  2,  0],\n",
       "       [11,  0,  1,  2,  0],\n",
       "       [ 7,  1,  0,  2,  0],\n",
       "       [ 7,  1,  0,  2,  0],\n",
       "       [ 8,  1,  0,  2,  0],\n",
       "       [ 7,  1,  0,  1,  0],\n",
       "       [ 8,  1,  0,  2,  0],\n",
       "       [ 8,  0,  0,  6,  0]])"
      ]
     },
     "execution_count": 18,
     "metadata": {},
     "output_type": "execute_result"
    }
   ],
   "source": [
    "# test data from wine.csv\n",
    "tdata = data[:10,:5]\n",
    "tdata"
   ]
  },
  {
   "cell_type": "markdown",
   "metadata": {},
   "source": [
    "**Test Result**\n",
    "\n",
    "We test two boundary cases: the probability thresholds for merge are 0 and 1 respectively. The results align with our assumptions that for 0, all data points belong to one cluster, while for 1, each cluster only contains one original data point."
   ]
  },
  {
   "cell_type": "code",
   "execution_count": 19,
   "metadata": {
    "collapsed": false,
    "scrolled": true
   },
   "outputs": [],
   "source": [
    "# test when the threshold for rk is 0 and alpha = 1\n",
    "node_list, node_list_cluster = bhc(tdata, a=1, r_thres=0)"
   ]
  },
  {
   "cell_type": "code",
   "execution_count": 20,
   "metadata": {
    "collapsed": false
   },
   "outputs": [
    {
     "data": {
      "text/plain": [
       "[0, 0, 0, 0, 0, 0, 0, 0, 0, 0]"
      ]
     },
     "execution_count": 20,
     "metadata": {},
     "output_type": "execute_result"
    }
   ],
   "source": [
    "[node.cluster for node in node_list_cluster]"
   ]
  },
  {
   "cell_type": "code",
   "execution_count": 21,
   "metadata": {
    "collapsed": false
   },
   "outputs": [
    {
     "data": {
      "text/plain": [
       "[array([[ 7,  1,  0,  2,  0],\n",
       "        [ 8,  1,  0,  3,  0],\n",
       "        [ 8,  1,  0,  2,  0],\n",
       "        [11,  0,  1,  2,  0],\n",
       "        [ 7,  1,  0,  2,  0],\n",
       "        [ 7,  1,  0,  2,  0],\n",
       "        [ 8,  1,  0,  2,  0],\n",
       "        [ 7,  1,  0,  1,  0],\n",
       "        [ 8,  1,  0,  2,  0],\n",
       "        [ 8,  0,  0,  6,  0]])]"
      ]
     },
     "execution_count": 21,
     "metadata": {},
     "output_type": "execute_result"
    }
   ],
   "source": [
    "[node.data for node in node_list]"
   ]
  },
  {
   "cell_type": "code",
   "execution_count": 22,
   "metadata": {
    "collapsed": false
   },
   "outputs": [],
   "source": [
    "# test when the threshold for rk is 1 and alpha = 1\n",
    "nodes, nodes_cluster = bhc(tdata, a=1, r_thres=1)"
   ]
  },
  {
   "cell_type": "code",
   "execution_count": 23,
   "metadata": {
    "collapsed": false
   },
   "outputs": [
    {
     "data": {
      "text/plain": [
       "[0, 1, 2, 3, 4, 5, 6, 7, 8, 9]"
      ]
     },
     "execution_count": 23,
     "metadata": {},
     "output_type": "execute_result"
    }
   ],
   "source": [
    "[node.cluster for node in nodes_cluster]"
   ]
  },
  {
   "cell_type": "code",
   "execution_count": 24,
   "metadata": {
    "collapsed": false
   },
   "outputs": [
    {
     "data": {
      "text/plain": [
       "[array([[7, 1, 0, 2, 0]]),\n",
       " array([[8, 1, 0, 3, 0]]),\n",
       " array([[8, 1, 0, 2, 0]]),\n",
       " array([[11,  0,  1,  2,  0]]),\n",
       " array([[7, 1, 0, 2, 0]]),\n",
       " array([[7, 1, 0, 2, 0]]),\n",
       " array([[8, 1, 0, 2, 0]]),\n",
       " array([[7, 1, 0, 1, 0]]),\n",
       " array([[8, 1, 0, 2, 0]]),\n",
       " array([[8, 0, 0, 6, 0]])]"
      ]
     },
     "execution_count": 24,
     "metadata": {},
     "output_type": "execute_result"
    }
   ],
   "source": [
    "[node.data for node in nodes]"
   ]
  },
  {
   "cell_type": "markdown",
   "metadata": {},
   "source": [
    "## Algorithm Diagnosis & Optimization\n",
    "As Bayesian Hierarchical Clustering is a greedy algorithm which counts only tree-consistent partitions, it is much quicker and more efficient than the one with all partitions. Still, the number of iterations increases exponentially with the size of the dataset. In our case, 500 is the critical point, above which we see failure for most computers. Although the algorithm's speed does not heavily rely on the number of features, we do note that the range of each feature has a great influence over the program. Its reason is that as dataset is considered to follow a multinomial distribution, each feature input is treated as a distinct factor, and therefore having either too many factors or multiple too large factors can severely incapacitate the program. \n",
    "\n",
    "Due to the nature of our self-defined tree-node object, most of the optimization techniques become unavailable, such as vectorization and cython. However, we manage to apply jit to the first hypothesis probability part, which is used frequently in the implementation. Although the process will not speed up dramatically, we do notice that the overall performance of the implementation has been improved. \n",
    "\n",
    "Some runtime comparison can be seen below."
   ]
  },
  {
   "cell_type": "code",
   "execution_count": 26,
   "metadata": {
    "collapsed": false,
    "scrolled": false
   },
   "outputs": [
    {
     "name": "stdout",
     "output_type": "stream",
     "text": [
      "The slowest run took 5.54 times longer than the fastest. This could mean that an intermediate result is being cached.\n",
      "1 loop, best of 3: 191 ms per loop\n"
     ]
    }
   ],
   "source": [
    "# Without jit\n",
    "%timeit bhc(sdata, a=1, r_thres=0.5)"
   ]
  },
  {
   "cell_type": "code",
   "execution_count": 28,
   "metadata": {
    "collapsed": false,
    "scrolled": true
   },
   "outputs": [
    {
     "name": "stdout",
     "output_type": "stream",
     "text": [
      "10 loops, best of 3: 111 ms per loop\n"
     ]
    }
   ],
   "source": [
    "# with jit\n",
    "%timeit bhc(sdata, a=1, r_thres=0.5)"
   ]
  },
  {
   "cell_type": "markdown",
   "metadata": {},
   "source": [
    "## Conclusion\n",
    "Through synthetic data, although the algorithm's performance certainly can be affected by the probability cutoff value, in general the algorithm can cluster the dataset relatively well, even with the default value. With respect to real-world data, due to the computational restraints and data entry type requirement which the algorithm intrinsically inherits, usually data cleaning and sampling is required. Once a suitable dataset becomes available, the algorithm does succeed in doing a quite impressive job to cluster it. Within each cluster, the purity score is high, meaning that the majority of the cluster shares the same label.\n",
    "\n",
    "For our implementation, not only we implement the Bayesian Hierarchical Clustering algorithm in the Multinomial-Dirichelet setting, but also we leave extensive maneuver room for the users by offering options to various parameters, including both prior alpha and probability cutoff threshold, so we hope that it can suit advanced users' need. On the other hand, as most of the parameters have default settings, the algorithm can still perform by simply plugging the dataset, where no prior knowledge is required. Besides, as the model we implement is Multinomial-Dirichelt, the algorithm can also be extrapolated to the data with Bernoulli data entry without losing too much accuracy, as the algorithm can be applied to any dataset with discrete entry with caution. "
   ]
  },
  {
   "cell_type": "markdown",
   "metadata": {},
   "source": [
    "## References\n",
    "Dr. Katherine Heller & Dr. Zoubin Ghaharami. (2005) Bayesian Hierarchical Clustering.  UCL\n",
    "\n",
    "Rasmussen, C. E. (2000). The infinite Gaussian mixture model.\n",
    "NIPS 12 (pp. 554–560).\n",
    "\n",
    "Vaithyanathan, S., & Dom, B. (2000). Model-based hierarchical\n",
    "clustering. UAI.\n",
    "\n",
    "Blei, D., & Jordan, M. (2004). Variational methods for dirichlet\n",
    "process mixture models (Technical Report 674). UC Berkeley\n",
    "\n",
    "Banfield, J. D., & Raftery, A. E. (1993). Model-based Gaussian\n",
    "and non-Gaussian clustering. Biometrics, 49, 803–821.\n",
    "\n",
    "Richard S Savage, Katherine Heller, Yang Xu, Zoubin Ghahramani, William M Truman, Murray Grant, Katherine J Denby and David L WildEmail. (2009) RBHC: fast Bayesian hierarchical clustering for microarray data. BMC Bioinformatics"
   ]
  },
  {
   "cell_type": "code",
   "execution_count": null,
   "metadata": {
    "collapsed": true
   },
   "outputs": [],
   "source": [
    "!jupyter nbconvert --to pdf project.ipynb"
   ]
  }
 ],
 "metadata": {
  "anaconda-cloud": {},
  "kernelspec": {
   "display_name": "Python [default]",
   "language": "python",
   "name": "python3"
  },
  "language_info": {
   "codemirror_mode": {
    "name": "ipython",
    "version": 3
   },
   "file_extension": ".py",
   "mimetype": "text/x-python",
   "name": "python",
   "nbconvert_exporter": "python",
   "pygments_lexer": "ipython3",
   "version": "3.5.2"
  }
 },
 "nbformat": 4,
 "nbformat_minor": 1
}
